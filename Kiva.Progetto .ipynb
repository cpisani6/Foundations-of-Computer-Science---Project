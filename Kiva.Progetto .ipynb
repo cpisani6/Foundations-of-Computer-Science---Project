{
 "cells": [
  {
   "cell_type": "markdown",
   "metadata": {},
   "source": [
    "# 1. Normalize the loan_lenders table. In the normalized table, each row must have one loan_id and one lender"
   ]
  },
  {
   "cell_type": "code",
   "execution_count": 68,
   "metadata": {},
   "outputs": [],
   "source": [
    "import pandas as pd\n",
    "import numpy as np\n",
    "import dask.dataframe as ddfrom \n",
    "from IPython.display import display"
   ]
  },
  {
   "cell_type": "code",
   "execution_count": 2,
   "metadata": {},
   "outputs": [],
   "source": [
    "loans_lenders=dd.read_csv('/Users/caterinapisani/Progetto FCS/KIVA/loans_lenders.csv')"
   ]
  },
  {
   "cell_type": "markdown",
   "metadata": {},
   "source": [
    "#### Prima di risolvere il problema posto, voglio avere una breve overview del dataset. Dunque, come prima cosa, stampo la \"testa\" (prime 5 righe) e la \"coda\" (ultime 5 righe) del dataset e eseguo una count del numero totale di righe."
   ]
  },
  {
   "cell_type": "code",
   "execution_count": 3,
   "metadata": {},
   "outputs": [
    {
     "data": {
      "text/html": [
       "<div>\n",
       "<style scoped>\n",
       "    .dataframe tbody tr th:only-of-type {\n",
       "        vertical-align: middle;\n",
       "    }\n",
       "\n",
       "    .dataframe tbody tr th {\n",
       "        vertical-align: top;\n",
       "    }\n",
       "\n",
       "    .dataframe thead th {\n",
       "        text-align: right;\n",
       "    }\n",
       "</style>\n",
       "<table border=\"1\" class=\"dataframe\">\n",
       "  <thead>\n",
       "    <tr style=\"text-align: right;\">\n",
       "      <th></th>\n",
       "      <th>loan_id</th>\n",
       "      <th>lenders</th>\n",
       "    </tr>\n",
       "  </thead>\n",
       "  <tbody>\n",
       "    <tr>\n",
       "      <th>0</th>\n",
       "      <td>483693</td>\n",
       "      <td>muc888, sam4326, camaran3922, lachheb1865, reb...</td>\n",
       "    </tr>\n",
       "    <tr>\n",
       "      <th>1</th>\n",
       "      <td>483738</td>\n",
       "      <td>muc888, nora3555, williammanashi, barbara5610,...</td>\n",
       "    </tr>\n",
       "    <tr>\n",
       "      <th>2</th>\n",
       "      <td>485000</td>\n",
       "      <td>muc888, terrystl, richardandsusan8352, sherri4...</td>\n",
       "    </tr>\n",
       "    <tr>\n",
       "      <th>3</th>\n",
       "      <td>486087</td>\n",
       "      <td>muc888, james5068, rudi5955, daniel9859, don92...</td>\n",
       "    </tr>\n",
       "    <tr>\n",
       "      <th>4</th>\n",
       "      <td>534428</td>\n",
       "      <td>muc888, niki3008, teresa9174, mike4896, david7...</td>\n",
       "    </tr>\n",
       "  </tbody>\n",
       "</table>\n",
       "</div>"
      ],
      "text/plain": [
       "   loan_id                                            lenders\n",
       "0   483693  muc888, sam4326, camaran3922, lachheb1865, reb...\n",
       "1   483738  muc888, nora3555, williammanashi, barbara5610,...\n",
       "2   485000  muc888, terrystl, richardandsusan8352, sherri4...\n",
       "3   486087  muc888, james5068, rudi5955, daniel9859, don92...\n",
       "4   534428  muc888, niki3008, teresa9174, mike4896, david7..."
      ]
     },
     "execution_count": 3,
     "metadata": {},
     "output_type": "execute_result"
    }
   ],
   "source": [
    "loans_lenders.head()"
   ]
  },
  {
   "cell_type": "code",
   "execution_count": 4,
   "metadata": {},
   "outputs": [
    {
     "data": {
      "text/html": [
       "<div>\n",
       "<style scoped>\n",
       "    .dataframe tbody tr th:only-of-type {\n",
       "        vertical-align: middle;\n",
       "    }\n",
       "\n",
       "    .dataframe tbody tr th {\n",
       "        vertical-align: top;\n",
       "    }\n",
       "\n",
       "    .dataframe thead th {\n",
       "        text-align: right;\n",
       "    }\n",
       "</style>\n",
       "<table border=\"1\" class=\"dataframe\">\n",
       "  <thead>\n",
       "    <tr style=\"text-align: right;\">\n",
       "      <th></th>\n",
       "      <th>loan_id</th>\n",
       "      <th>lenders</th>\n",
       "    </tr>\n",
       "  </thead>\n",
       "  <tbody>\n",
       "    <tr>\n",
       "      <th>138359</th>\n",
       "      <td>678999</td>\n",
       "      <td>michael43411218, carol5987, gooddogg1, chris41...</td>\n",
       "    </tr>\n",
       "    <tr>\n",
       "      <th>138360</th>\n",
       "      <td>1207353</td>\n",
       "      <td>rjhoward1986, jeffrey6870, trolltech4460, elys...</td>\n",
       "    </tr>\n",
       "    <tr>\n",
       "      <th>138361</th>\n",
       "      <td>1206220</td>\n",
       "      <td>vicky7746, gooddogg1, fairspirit, craig9729960...</td>\n",
       "    </tr>\n",
       "    <tr>\n",
       "      <th>138362</th>\n",
       "      <td>1206425</td>\n",
       "      <td>rich6705, sergiiy9766, angela7509, barbara5610...</td>\n",
       "    </tr>\n",
       "    <tr>\n",
       "      <th>138363</th>\n",
       "      <td>1206486</td>\n",
       "      <td>alan5175, amy38101311</td>\n",
       "    </tr>\n",
       "  </tbody>\n",
       "</table>\n",
       "</div>"
      ],
      "text/plain": [
       "        loan_id                                            lenders\n",
       "138359   678999  michael43411218, carol5987, gooddogg1, chris41...\n",
       "138360  1207353  rjhoward1986, jeffrey6870, trolltech4460, elys...\n",
       "138361  1206220  vicky7746, gooddogg1, fairspirit, craig9729960...\n",
       "138362  1206425  rich6705, sergiiy9766, angela7509, barbara5610...\n",
       "138363  1206486                              alan5175, amy38101311"
      ]
     },
     "execution_count": 4,
     "metadata": {},
     "output_type": "execute_result"
    }
   ],
   "source": [
    "loans_lenders.tail()"
   ]
  },
  {
   "cell_type": "code",
   "execution_count": 5,
   "metadata": {},
   "outputs": [
    {
     "data": {
      "text/plain": [
       "1387432"
      ]
     },
     "execution_count": 5,
     "metadata": {},
     "output_type": "execute_result"
    }
   ],
   "source": [
    "len(loans_lenders)"
   ]
  },
  {
   "cell_type": "markdown",
   "metadata": {},
   "source": [
    "#### Successivamente, voglio sapere se e quanti valori NA o duplicati sono presenti nella colonna \"loan_id\". "
   ]
  },
  {
   "cell_type": "code",
   "execution_count": 6,
   "metadata": {},
   "outputs": [
    {
     "data": {
      "text/plain": [
       "loan_id    0\n",
       "lenders    0\n",
       "dtype: int64"
      ]
     },
     "execution_count": 6,
     "metadata": {},
     "output_type": "execute_result"
    }
   ],
   "source": [
    "loans_lenders.isna().sum().compute()"
   ]
  },
  {
   "cell_type": "code",
   "execution_count": 7,
   "metadata": {},
   "outputs": [
    {
     "data": {
      "text/plain": [
       "1387432"
      ]
     },
     "execution_count": 7,
     "metadata": {},
     "output_type": "execute_result"
    }
   ],
   "source": [
    "len(loans_lenders['loan_id'].unique().compute())"
   ]
  },
  {
   "cell_type": "markdown",
   "metadata": {},
   "source": [
    "#### Noto che non ci sono nè valori nulli nè duplicati nella colonna \"loan_id\"."
   ]
  },
  {
   "cell_type": "markdown",
   "metadata": {},
   "source": [
    "#### Ora posso procedere con la normalizzazione della tabella. Siccome le stringhe della colonna \"lenders\" sono separate da virgola, eseguo prima di tutto  una split. Dopodichè posso applicare la funzione \"explode\", che letteralmente fa \"esplodere\" le stringhe su più righe, così da avere la tabella in forma normale. "
   ]
  },
  {
   "cell_type": "code",
   "execution_count": 3,
   "metadata": {},
   "outputs": [],
   "source": [
    "norm_loans_lenders = loans_lenders.assign(lenders=loans_lenders[\"lenders\"].str.split(\",\")).explode(\"lenders\").reset_index(drop=True)"
   ]
  },
  {
   "cell_type": "code",
   "execution_count": 9,
   "metadata": {},
   "outputs": [
    {
     "data": {
      "text/html": [
       "<div>\n",
       "<style scoped>\n",
       "    .dataframe tbody tr th:only-of-type {\n",
       "        vertical-align: middle;\n",
       "    }\n",
       "\n",
       "    .dataframe tbody tr th {\n",
       "        vertical-align: top;\n",
       "    }\n",
       "\n",
       "    .dataframe thead th {\n",
       "        text-align: right;\n",
       "    }\n",
       "</style>\n",
       "<table border=\"1\" class=\"dataframe\">\n",
       "  <thead>\n",
       "    <tr style=\"text-align: right;\">\n",
       "      <th></th>\n",
       "      <th>loan_id</th>\n",
       "      <th>lenders</th>\n",
       "    </tr>\n",
       "  </thead>\n",
       "  <tbody>\n",
       "    <tr>\n",
       "      <th>0</th>\n",
       "      <td>483693</td>\n",
       "      <td>muc888</td>\n",
       "    </tr>\n",
       "    <tr>\n",
       "      <th>1</th>\n",
       "      <td>483693</td>\n",
       "      <td>sam4326</td>\n",
       "    </tr>\n",
       "    <tr>\n",
       "      <th>2</th>\n",
       "      <td>483693</td>\n",
       "      <td>camaran3922</td>\n",
       "    </tr>\n",
       "    <tr>\n",
       "      <th>3</th>\n",
       "      <td>483693</td>\n",
       "      <td>lachheb1865</td>\n",
       "    </tr>\n",
       "    <tr>\n",
       "      <th>4</th>\n",
       "      <td>483693</td>\n",
       "      <td>rebecca3499</td>\n",
       "    </tr>\n",
       "  </tbody>\n",
       "</table>\n",
       "</div>"
      ],
      "text/plain": [
       "   loan_id       lenders\n",
       "0   483693        muc888\n",
       "1   483693       sam4326\n",
       "2   483693   camaran3922\n",
       "3   483693   lachheb1865\n",
       "4   483693   rebecca3499"
      ]
     },
     "execution_count": 9,
     "metadata": {},
     "output_type": "execute_result"
    }
   ],
   "source": [
    "norm_loans_lenders.head()"
   ]
  },
  {
   "cell_type": "code",
   "execution_count": 10,
   "metadata": {},
   "outputs": [
    {
     "data": {
      "text/plain": [
       "Index(['loan_id', 'lenders'], dtype='object')"
      ]
     },
     "execution_count": 10,
     "metadata": {},
     "output_type": "execute_result"
    }
   ],
   "source": [
    "norm_loans_lenders.columns"
   ]
  },
  {
   "cell_type": "code",
   "execution_count": 11,
   "metadata": {},
   "outputs": [
    {
     "data": {
      "text/plain": [
       "28293931"
      ]
     },
     "execution_count": 11,
     "metadata": {},
     "output_type": "execute_result"
    }
   ],
   "source": [
    "len(norm_loans_lenders)"
   ]
  },
  {
   "cell_type": "code",
   "execution_count": 12,
   "metadata": {},
   "outputs": [
    {
     "data": {
      "text/plain": [
       "1639026"
      ]
     },
     "execution_count": 12,
     "metadata": {},
     "output_type": "execute_result"
    }
   ],
   "source": [
    "len(norm_loans_lenders['lenders'].unique().compute())"
   ]
  },
  {
   "cell_type": "markdown",
   "metadata": {},
   "source": [
    "# 2. For each loan, add a column duration corresponding to the number of days between the disburse time and the planned expiration time. If any of those two dates is missing, also the duration must be missing."
   ]
  },
  {
   "cell_type": "code",
   "execution_count": 4,
   "metadata": {
    "scrolled": true
   },
   "outputs": [],
   "source": [
    "#Leggo il file e includo un'opzione per poter visualizzare tutte le colonne \n",
    "loans=dd.read_csv('/Users/caterinapisani/Progetto FCS/KIVA/loans.csv')\n",
    "pd.set_option('display.max_columns', None)"
   ]
  },
  {
   "cell_type": "code",
   "execution_count": 14,
   "metadata": {},
   "outputs": [
    {
     "data": {
      "text/html": [
       "<div>\n",
       "<style scoped>\n",
       "    .dataframe tbody tr th:only-of-type {\n",
       "        vertical-align: middle;\n",
       "    }\n",
       "\n",
       "    .dataframe tbody tr th {\n",
       "        vertical-align: top;\n",
       "    }\n",
       "\n",
       "    .dataframe thead th {\n",
       "        text-align: right;\n",
       "    }\n",
       "</style>\n",
       "<table border=\"1\" class=\"dataframe\">\n",
       "  <thead>\n",
       "    <tr style=\"text-align: right;\">\n",
       "      <th></th>\n",
       "      <th>loan_id</th>\n",
       "      <th>loan_name</th>\n",
       "      <th>original_language</th>\n",
       "      <th>description</th>\n",
       "      <th>description_translated</th>\n",
       "      <th>funded_amount</th>\n",
       "      <th>loan_amount</th>\n",
       "      <th>status</th>\n",
       "      <th>activity_name</th>\n",
       "      <th>sector_name</th>\n",
       "      <th>loan_use</th>\n",
       "      <th>country_code</th>\n",
       "      <th>country_name</th>\n",
       "      <th>town_name</th>\n",
       "      <th>currency_policy</th>\n",
       "      <th>currency_exchange_coverage_rate</th>\n",
       "      <th>currency</th>\n",
       "      <th>partner_id</th>\n",
       "      <th>posted_time</th>\n",
       "      <th>planned_expiration_time</th>\n",
       "      <th>disburse_time</th>\n",
       "      <th>raised_time</th>\n",
       "      <th>lender_term</th>\n",
       "      <th>num_lenders_total</th>\n",
       "      <th>num_journal_entries</th>\n",
       "      <th>num_bulk_entries</th>\n",
       "      <th>tags</th>\n",
       "      <th>borrower_genders</th>\n",
       "      <th>borrower_pictured</th>\n",
       "      <th>repayment_interval</th>\n",
       "      <th>distribution_model</th>\n",
       "    </tr>\n",
       "  </thead>\n",
       "  <tbody>\n",
       "    <tr>\n",
       "      <th>0</th>\n",
       "      <td>657307</td>\n",
       "      <td>Aivy</td>\n",
       "      <td>English</td>\n",
       "      <td>Aivy, 21 years of age, is single and lives in ...</td>\n",
       "      <td>NaN</td>\n",
       "      <td>125.0</td>\n",
       "      <td>125.0</td>\n",
       "      <td>funded</td>\n",
       "      <td>General Store</td>\n",
       "      <td>Retail</td>\n",
       "      <td>to buy additional inventories for her sari-sa...</td>\n",
       "      <td>PH</td>\n",
       "      <td>Philippines</td>\n",
       "      <td>Ozamiz - Ozamiz City</td>\n",
       "      <td>shared</td>\n",
       "      <td>0.1</td>\n",
       "      <td>PHP</td>\n",
       "      <td>126.0</td>\n",
       "      <td>2014-01-15 02:23:45.000 +0000</td>\n",
       "      <td>2014-02-14 03:30:06.000 +0000</td>\n",
       "      <td>2013-12-22 08:00:00.000 +0000</td>\n",
       "      <td>2014-01-15 04:48:22.000 +0000</td>\n",
       "      <td>7.0</td>\n",
       "      <td>3</td>\n",
       "      <td>2</td>\n",
       "      <td>1</td>\n",
       "      <td>NaN</td>\n",
       "      <td>female</td>\n",
       "      <td>true</td>\n",
       "      <td>irregular</td>\n",
       "      <td>field_partner</td>\n",
       "    </tr>\n",
       "    <tr>\n",
       "      <th>1</th>\n",
       "      <td>657259</td>\n",
       "      <td>Idalia Marizza</td>\n",
       "      <td>Spanish</td>\n",
       "      <td>Doña Idalia, esta casada, tiene 57 años de eda...</td>\n",
       "      <td>Idalia, 57, is married and lives with her husb...</td>\n",
       "      <td>400.0</td>\n",
       "      <td>400.0</td>\n",
       "      <td>funded</td>\n",
       "      <td>Used Clothing</td>\n",
       "      <td>Clothing</td>\n",
       "      <td>To buy American clothing such as blouses, shir...</td>\n",
       "      <td>HN</td>\n",
       "      <td>Honduras</td>\n",
       "      <td>La Lopez, Choloma</td>\n",
       "      <td>shared</td>\n",
       "      <td>0.1</td>\n",
       "      <td>HNL</td>\n",
       "      <td>201.0</td>\n",
       "      <td>2014-01-14 20:23:20.000 +0000</td>\n",
       "      <td>2014-03-26 22:25:07.000 +0000</td>\n",
       "      <td>2013-12-20 08:00:00.000 +0000</td>\n",
       "      <td>2014-02-25 06:42:06.000 +0000</td>\n",
       "      <td>8.0</td>\n",
       "      <td>11</td>\n",
       "      <td>2</td>\n",
       "      <td>1</td>\n",
       "      <td>NaN</td>\n",
       "      <td>female</td>\n",
       "      <td>true</td>\n",
       "      <td>monthly</td>\n",
       "      <td>field_partner</td>\n",
       "    </tr>\n",
       "    <tr>\n",
       "      <th>2</th>\n",
       "      <td>658010</td>\n",
       "      <td>Aasia</td>\n",
       "      <td>English</td>\n",
       "      <td>Aasia is a 45-year-old married lady and she ha...</td>\n",
       "      <td>NaN</td>\n",
       "      <td>400.0</td>\n",
       "      <td>400.0</td>\n",
       "      <td>funded</td>\n",
       "      <td>General Store</td>\n",
       "      <td>Retail</td>\n",
       "      <td>to buy stock of rice, sugar and flour</td>\n",
       "      <td>PK</td>\n",
       "      <td>Pakistan</td>\n",
       "      <td>Lala Musa</td>\n",
       "      <td>shared</td>\n",
       "      <td>0.1</td>\n",
       "      <td>PKR</td>\n",
       "      <td>245.0</td>\n",
       "      <td>2014-01-16 11:32:58.000 +0000</td>\n",
       "      <td>2014-02-15 21:10:05.000 +0000</td>\n",
       "      <td>2014-01-09 08:00:00.000 +0000</td>\n",
       "      <td>2014-01-24 23:06:18.000 +0000</td>\n",
       "      <td>14.0</td>\n",
       "      <td>16</td>\n",
       "      <td>2</td>\n",
       "      <td>1</td>\n",
       "      <td>#Woman Owned Biz, #Supporting Family, user_fav...</td>\n",
       "      <td>female</td>\n",
       "      <td>true</td>\n",
       "      <td>monthly</td>\n",
       "      <td>field_partner</td>\n",
       "    </tr>\n",
       "    <tr>\n",
       "      <th>3</th>\n",
       "      <td>659347</td>\n",
       "      <td>Gulmira</td>\n",
       "      <td>Russian</td>\n",
       "      <td>Гулмире 36 лет, замужем, вместе с супругом вос...</td>\n",
       "      <td>Gulmira is 36 years old and married.  She and ...</td>\n",
       "      <td>625.0</td>\n",
       "      <td>625.0</td>\n",
       "      <td>funded</td>\n",
       "      <td>Farming</td>\n",
       "      <td>Agriculture</td>\n",
       "      <td>to buy cucumber and tomato seeds, as well as f...</td>\n",
       "      <td>KG</td>\n",
       "      <td>Kyrgyzstan</td>\n",
       "      <td>Aravan village, Osh region</td>\n",
       "      <td>shared</td>\n",
       "      <td>0.1</td>\n",
       "      <td>KGS</td>\n",
       "      <td>171.0</td>\n",
       "      <td>2014-01-20 09:59:48.000 +0000</td>\n",
       "      <td>2014-02-21 03:10:02.000 +0000</td>\n",
       "      <td>2014-01-17 08:00:00.000 +0000</td>\n",
       "      <td>2014-01-22 05:29:28.000 +0000</td>\n",
       "      <td>14.0</td>\n",
       "      <td>21</td>\n",
       "      <td>2</td>\n",
       "      <td>1</td>\n",
       "      <td>user_favorite</td>\n",
       "      <td>female</td>\n",
       "      <td>true</td>\n",
       "      <td>monthly</td>\n",
       "      <td>field_partner</td>\n",
       "    </tr>\n",
       "    <tr>\n",
       "      <th>4</th>\n",
       "      <td>656933</td>\n",
       "      <td>Ricky\\t</td>\n",
       "      <td>English</td>\n",
       "      <td>Ricky is a farmer who currently cultivates his...</td>\n",
       "      <td>NaN</td>\n",
       "      <td>425.0</td>\n",
       "      <td>425.0</td>\n",
       "      <td>funded</td>\n",
       "      <td>Farming</td>\n",
       "      <td>Agriculture</td>\n",
       "      <td>to buy organic fertilizer and agrochemical pr...</td>\n",
       "      <td>PH</td>\n",
       "      <td>Philippines</td>\n",
       "      <td>Baleleng, Sto. Thomas, Isabela</td>\n",
       "      <td>shared</td>\n",
       "      <td>0.1</td>\n",
       "      <td>PHP</td>\n",
       "      <td>123.0</td>\n",
       "      <td>2014-01-14 05:46:21.000 +0000</td>\n",
       "      <td>2014-02-13 06:10:02.000 +0000</td>\n",
       "      <td>2013-12-17 08:00:00.000 +0000</td>\n",
       "      <td>2014-01-14 17:29:27.000 +0000</td>\n",
       "      <td>7.0</td>\n",
       "      <td>15</td>\n",
       "      <td>2</td>\n",
       "      <td>1</td>\n",
       "      <td>#Animals, #Eco-friendly, #Sustainable Ag</td>\n",
       "      <td>male</td>\n",
       "      <td>true</td>\n",
       "      <td>bullet</td>\n",
       "      <td>field_partner</td>\n",
       "    </tr>\n",
       "  </tbody>\n",
       "</table>\n",
       "</div>"
      ],
      "text/plain": [
       "   loan_id       loan_name original_language  \\\n",
       "0   657307            Aivy           English   \n",
       "1   657259  Idalia Marizza           Spanish   \n",
       "2   658010           Aasia           English   \n",
       "3   659347         Gulmira           Russian   \n",
       "4   656933         Ricky\\t           English   \n",
       "\n",
       "                                         description  \\\n",
       "0  Aivy, 21 years of age, is single and lives in ...   \n",
       "1  Doña Idalia, esta casada, tiene 57 años de eda...   \n",
       "2  Aasia is a 45-year-old married lady and she ha...   \n",
       "3  Гулмире 36 лет, замужем, вместе с супругом вос...   \n",
       "4  Ricky is a farmer who currently cultivates his...   \n",
       "\n",
       "                              description_translated  funded_amount  \\\n",
       "0                                                NaN          125.0   \n",
       "1  Idalia, 57, is married and lives with her husb...          400.0   \n",
       "2                                                NaN          400.0   \n",
       "3  Gulmira is 36 years old and married.  She and ...          625.0   \n",
       "4                                                NaN          425.0   \n",
       "\n",
       "   loan_amount  status  activity_name  sector_name  \\\n",
       "0        125.0  funded  General Store       Retail   \n",
       "1        400.0  funded  Used Clothing     Clothing   \n",
       "2        400.0  funded  General Store       Retail   \n",
       "3        625.0  funded        Farming  Agriculture   \n",
       "4        425.0  funded        Farming  Agriculture   \n",
       "\n",
       "                                            loan_use country_code  \\\n",
       "0   to buy additional inventories for her sari-sa...           PH   \n",
       "1  To buy American clothing such as blouses, shir...           HN   \n",
       "2              to buy stock of rice, sugar and flour           PK   \n",
       "3  to buy cucumber and tomato seeds, as well as f...           KG   \n",
       "4   to buy organic fertilizer and agrochemical pr...           PH   \n",
       "\n",
       "  country_name                       town_name currency_policy  \\\n",
       "0  Philippines            Ozamiz - Ozamiz City          shared   \n",
       "1     Honduras               La Lopez, Choloma          shared   \n",
       "2     Pakistan                       Lala Musa          shared   \n",
       "3   Kyrgyzstan      Aravan village, Osh region          shared   \n",
       "4  Philippines  Baleleng, Sto. Thomas, Isabela          shared   \n",
       "\n",
       "   currency_exchange_coverage_rate currency  partner_id  \\\n",
       "0                              0.1      PHP       126.0   \n",
       "1                              0.1      HNL       201.0   \n",
       "2                              0.1      PKR       245.0   \n",
       "3                              0.1      KGS       171.0   \n",
       "4                              0.1      PHP       123.0   \n",
       "\n",
       "                     posted_time        planned_expiration_time  \\\n",
       "0  2014-01-15 02:23:45.000 +0000  2014-02-14 03:30:06.000 +0000   \n",
       "1  2014-01-14 20:23:20.000 +0000  2014-03-26 22:25:07.000 +0000   \n",
       "2  2014-01-16 11:32:58.000 +0000  2014-02-15 21:10:05.000 +0000   \n",
       "3  2014-01-20 09:59:48.000 +0000  2014-02-21 03:10:02.000 +0000   \n",
       "4  2014-01-14 05:46:21.000 +0000  2014-02-13 06:10:02.000 +0000   \n",
       "\n",
       "                   disburse_time                    raised_time  lender_term  \\\n",
       "0  2013-12-22 08:00:00.000 +0000  2014-01-15 04:48:22.000 +0000          7.0   \n",
       "1  2013-12-20 08:00:00.000 +0000  2014-02-25 06:42:06.000 +0000          8.0   \n",
       "2  2014-01-09 08:00:00.000 +0000  2014-01-24 23:06:18.000 +0000         14.0   \n",
       "3  2014-01-17 08:00:00.000 +0000  2014-01-22 05:29:28.000 +0000         14.0   \n",
       "4  2013-12-17 08:00:00.000 +0000  2014-01-14 17:29:27.000 +0000          7.0   \n",
       "\n",
       "   num_lenders_total  num_journal_entries  num_bulk_entries  \\\n",
       "0                  3                    2                 1   \n",
       "1                 11                    2                 1   \n",
       "2                 16                    2                 1   \n",
       "3                 21                    2                 1   \n",
       "4                 15                    2                 1   \n",
       "\n",
       "                                                tags borrower_genders  \\\n",
       "0                                                NaN           female   \n",
       "1                                                NaN           female   \n",
       "2  #Woman Owned Biz, #Supporting Family, user_fav...           female   \n",
       "3                                      user_favorite           female   \n",
       "4           #Animals, #Eco-friendly, #Sustainable Ag             male   \n",
       "\n",
       "  borrower_pictured repayment_interval distribution_model  \n",
       "0              true          irregular      field_partner  \n",
       "1              true            monthly      field_partner  \n",
       "2              true            monthly      field_partner  \n",
       "3              true            monthly      field_partner  \n",
       "4              true             bullet      field_partner  "
      ]
     },
     "execution_count": 14,
     "metadata": {},
     "output_type": "execute_result"
    }
   ],
   "source": [
    "loans.head()"
   ]
  },
  {
   "cell_type": "code",
   "execution_count": 15,
   "metadata": {},
   "outputs": [
    {
     "data": {
      "text/plain": [
       "loan_id                              int64\n",
       "loan_name                           object\n",
       "original_language                   object\n",
       "description                         object\n",
       "description_translated              object\n",
       "funded_amount                      float64\n",
       "loan_amount                        float64\n",
       "status                              object\n",
       "activity_name                       object\n",
       "sector_name                         object\n",
       "loan_use                            object\n",
       "country_code                        object\n",
       "country_name                        object\n",
       "town_name                           object\n",
       "currency_policy                     object\n",
       "currency_exchange_coverage_rate    float64\n",
       "currency                            object\n",
       "partner_id                         float64\n",
       "posted_time                         object\n",
       "planned_expiration_time             object\n",
       "disburse_time                       object\n",
       "raised_time                         object\n",
       "lender_term                        float64\n",
       "num_lenders_total                    int64\n",
       "num_journal_entries                  int64\n",
       "num_bulk_entries                     int64\n",
       "tags                                object\n",
       "borrower_genders                    object\n",
       "borrower_pictured                   object\n",
       "repayment_interval                  object\n",
       "distribution_model                  object\n",
       "dtype: object"
      ]
     },
     "execution_count": 15,
     "metadata": {},
     "output_type": "execute_result"
    }
   ],
   "source": [
    "#Voglio sapere il tipo di dati della tabella, ed in particolare noto che \"planned_expiration_time\"\n",
    "#e \"disburse_time\" sono considerati oggetti, non sono ancora in formato datetime.\n",
    "loans.dtypes"
   ]
  },
  {
   "cell_type": "code",
   "execution_count": 16,
   "metadata": {},
   "outputs": [
    {
     "data": {
      "text/plain": [
       "371834"
      ]
     },
     "execution_count": 16,
     "metadata": {},
     "output_type": "execute_result"
    }
   ],
   "source": [
    "#Conto i valori mancanti nella colonna \"planned_expiration_time\"\n",
    "Na_planned = loans.planned_expiration_time.isna().sum().compute()\n",
    "Na_planned"
   ]
  },
  {
   "cell_type": "code",
   "execution_count": 17,
   "metadata": {},
   "outputs": [
    {
     "data": {
      "text/plain": [
       "2813"
      ]
     },
     "execution_count": 17,
     "metadata": {},
     "output_type": "execute_result"
    }
   ],
   "source": [
    "#Conto i valori mancanti nella colonna \"disburse_time\"\n",
    "Na_disburse = loans.disburse_time.isna().sum().compute()\n",
    "Na_disburse"
   ]
  },
  {
   "cell_type": "code",
   "execution_count": 18,
   "metadata": {},
   "outputs": [
    {
     "data": {
      "text/plain": [
       "374647"
      ]
     },
     "execution_count": 18,
     "metadata": {},
     "output_type": "execute_result"
    }
   ],
   "source": [
    "Tot_Na= Na_planned + Na_disburse\n",
    "Tot_Na"
   ]
  },
  {
   "cell_type": "code",
   "execution_count": 5,
   "metadata": {},
   "outputs": [],
   "source": [
    "#Sfrutto l'opzione \"parse_dates\" della read.csv per trasformare in formato datetime le colonne di interesse\n",
    "loans=dd.read_csv('/Users/caterinapisani/Progetto FCS/KIVA/loans.csv', parse_dates=['planned_expiration_time', 'disburse_time'])"
   ]
  },
  {
   "cell_type": "code",
   "execution_count": 14,
   "metadata": {},
   "outputs": [
    {
     "data": {
      "text/html": [
       "<div>\n",
       "<style scoped>\n",
       "    .dataframe tbody tr th:only-of-type {\n",
       "        vertical-align: middle;\n",
       "    }\n",
       "\n",
       "    .dataframe tbody tr th {\n",
       "        vertical-align: top;\n",
       "    }\n",
       "\n",
       "    .dataframe thead th {\n",
       "        text-align: right;\n",
       "    }\n",
       "</style>\n",
       "<table border=\"1\" class=\"dataframe\">\n",
       "  <thead>\n",
       "    <tr style=\"text-align: right;\">\n",
       "      <th></th>\n",
       "      <th>loan_id</th>\n",
       "      <th>planned_expiration_time</th>\n",
       "      <th>disburse_time</th>\n",
       "    </tr>\n",
       "  </thead>\n",
       "  <tbody>\n",
       "    <tr>\n",
       "      <th>0</th>\n",
       "      <td>657307</td>\n",
       "      <td>2014-02-14 03:30:06+00:00</td>\n",
       "      <td>2013-12-22 08:00:00+00:00</td>\n",
       "    </tr>\n",
       "    <tr>\n",
       "      <th>1</th>\n",
       "      <td>657259</td>\n",
       "      <td>2014-03-26 22:25:07+00:00</td>\n",
       "      <td>2013-12-20 08:00:00+00:00</td>\n",
       "    </tr>\n",
       "    <tr>\n",
       "      <th>2</th>\n",
       "      <td>658010</td>\n",
       "      <td>2014-02-15 21:10:05+00:00</td>\n",
       "      <td>2014-01-09 08:00:00+00:00</td>\n",
       "    </tr>\n",
       "    <tr>\n",
       "      <th>3</th>\n",
       "      <td>659347</td>\n",
       "      <td>2014-02-21 03:10:02+00:00</td>\n",
       "      <td>2014-01-17 08:00:00+00:00</td>\n",
       "    </tr>\n",
       "    <tr>\n",
       "      <th>4</th>\n",
       "      <td>656933</td>\n",
       "      <td>2014-02-13 06:10:02+00:00</td>\n",
       "      <td>2013-12-17 08:00:00+00:00</td>\n",
       "    </tr>\n",
       "  </tbody>\n",
       "</table>\n",
       "</div>"
      ],
      "text/plain": [
       "   loan_id   planned_expiration_time             disburse_time\n",
       "0   657307 2014-02-14 03:30:06+00:00 2013-12-22 08:00:00+00:00\n",
       "1   657259 2014-03-26 22:25:07+00:00 2013-12-20 08:00:00+00:00\n",
       "2   658010 2014-02-15 21:10:05+00:00 2014-01-09 08:00:00+00:00\n",
       "3   659347 2014-02-21 03:10:02+00:00 2014-01-17 08:00:00+00:00\n",
       "4   656933 2014-02-13 06:10:02+00:00 2013-12-17 08:00:00+00:00"
      ]
     },
     "execution_count": 14,
     "metadata": {},
     "output_type": "execute_result"
    }
   ],
   "source": [
    "#Creo un dataframe con solo le colonne di interesse per semplicità di visualizzazione\n",
    "loans_time = loans[['loan_id','planned_expiration_time','disburse_time']]\n",
    "loans_time.head()"
   ]
  },
  {
   "cell_type": "code",
   "execution_count": 12,
   "metadata": {},
   "outputs": [
    {
     "data": {
      "text/plain": [
       "loan_id                                  int64\n",
       "planned_expiration_time    datetime64[ns, UTC]\n",
       "disburse_time              datetime64[ns, UTC]\n",
       "dtype: object"
      ]
     },
     "execution_count": 12,
     "metadata": {},
     "output_type": "execute_result"
    }
   ],
   "source": [
    "#Controllo che il tipo di dati sia effettivamente cambiato\n",
    "loans_time.dtypes"
   ]
  },
  {
   "cell_type": "code",
   "execution_count": 19,
   "metadata": {},
   "outputs": [],
   "source": [
    "#Ora posso creare una nuova colonna \"duration\" data dalla differenza tra planned expiration time e disburse time\n",
    "\n",
    "loans_duration = loans_time.assign(duration=loans['planned_expiration_time']-loans['disburse_time'])"
   ]
  },
  {
   "cell_type": "code",
   "execution_count": 20,
   "metadata": {},
   "outputs": [
    {
     "data": {
      "text/html": [
       "<div>\n",
       "<style scoped>\n",
       "    .dataframe tbody tr th:only-of-type {\n",
       "        vertical-align: middle;\n",
       "    }\n",
       "\n",
       "    .dataframe tbody tr th {\n",
       "        vertical-align: top;\n",
       "    }\n",
       "\n",
       "    .dataframe thead th {\n",
       "        text-align: right;\n",
       "    }\n",
       "</style>\n",
       "<table border=\"1\" class=\"dataframe\">\n",
       "  <thead>\n",
       "    <tr style=\"text-align: right;\">\n",
       "      <th></th>\n",
       "      <th>loan_id</th>\n",
       "      <th>planned_expiration_time</th>\n",
       "      <th>disburse_time</th>\n",
       "      <th>duration</th>\n",
       "    </tr>\n",
       "  </thead>\n",
       "  <tbody>\n",
       "    <tr>\n",
       "      <th>0</th>\n",
       "      <td>657307</td>\n",
       "      <td>2014-02-14 03:30:06+00:00</td>\n",
       "      <td>2013-12-22 08:00:00+00:00</td>\n",
       "      <td>53 days 19:30:06</td>\n",
       "    </tr>\n",
       "    <tr>\n",
       "      <th>1</th>\n",
       "      <td>657259</td>\n",
       "      <td>2014-03-26 22:25:07+00:00</td>\n",
       "      <td>2013-12-20 08:00:00+00:00</td>\n",
       "      <td>96 days 14:25:07</td>\n",
       "    </tr>\n",
       "    <tr>\n",
       "      <th>2</th>\n",
       "      <td>658010</td>\n",
       "      <td>2014-02-15 21:10:05+00:00</td>\n",
       "      <td>2014-01-09 08:00:00+00:00</td>\n",
       "      <td>37 days 13:10:05</td>\n",
       "    </tr>\n",
       "    <tr>\n",
       "      <th>3</th>\n",
       "      <td>659347</td>\n",
       "      <td>2014-02-21 03:10:02+00:00</td>\n",
       "      <td>2014-01-17 08:00:00+00:00</td>\n",
       "      <td>34 days 19:10:02</td>\n",
       "    </tr>\n",
       "    <tr>\n",
       "      <th>4</th>\n",
       "      <td>656933</td>\n",
       "      <td>2014-02-13 06:10:02+00:00</td>\n",
       "      <td>2013-12-17 08:00:00+00:00</td>\n",
       "      <td>57 days 22:10:02</td>\n",
       "    </tr>\n",
       "  </tbody>\n",
       "</table>\n",
       "</div>"
      ],
      "text/plain": [
       "   loan_id   planned_expiration_time             disburse_time  \\\n",
       "0   657307 2014-02-14 03:30:06+00:00 2013-12-22 08:00:00+00:00   \n",
       "1   657259 2014-03-26 22:25:07+00:00 2013-12-20 08:00:00+00:00   \n",
       "2   658010 2014-02-15 21:10:05+00:00 2014-01-09 08:00:00+00:00   \n",
       "3   659347 2014-02-21 03:10:02+00:00 2014-01-17 08:00:00+00:00   \n",
       "4   656933 2014-02-13 06:10:02+00:00 2013-12-17 08:00:00+00:00   \n",
       "\n",
       "          duration  \n",
       "0 53 days 19:30:06  \n",
       "1 96 days 14:25:07  \n",
       "2 37 days 13:10:05  \n",
       "3 34 days 19:10:02  \n",
       "4 57 days 22:10:02  "
      ]
     },
     "execution_count": 20,
     "metadata": {},
     "output_type": "execute_result"
    }
   ],
   "source": [
    "loans_duration.head()"
   ]
  },
  {
   "cell_type": "code",
   "execution_count": 21,
   "metadata": {},
   "outputs": [
    {
     "data": {
      "text/html": [
       "<div>\n",
       "<style scoped>\n",
       "    .dataframe tbody tr th:only-of-type {\n",
       "        vertical-align: middle;\n",
       "    }\n",
       "\n",
       "    .dataframe tbody tr th {\n",
       "        vertical-align: top;\n",
       "    }\n",
       "\n",
       "    .dataframe thead th {\n",
       "        text-align: right;\n",
       "    }\n",
       "</style>\n",
       "<table border=\"1\" class=\"dataframe\">\n",
       "  <thead>\n",
       "    <tr style=\"text-align: right;\">\n",
       "      <th></th>\n",
       "      <th>loan_id</th>\n",
       "      <th>planned_expiration_time</th>\n",
       "      <th>disburse_time</th>\n",
       "      <th>duration</th>\n",
       "    </tr>\n",
       "  </thead>\n",
       "  <tbody>\n",
       "    <tr>\n",
       "      <th>27092</th>\n",
       "      <td>988180</td>\n",
       "      <td>2016-01-02 01:00:03+00:00</td>\n",
       "      <td>2015-11-23 08:00:00+00:00</td>\n",
       "      <td>39 days 17:00:03</td>\n",
       "    </tr>\n",
       "    <tr>\n",
       "      <th>27093</th>\n",
       "      <td>988213</td>\n",
       "      <td>2016-01-02 16:40:07+00:00</td>\n",
       "      <td>2015-11-24 08:00:00+00:00</td>\n",
       "      <td>39 days 08:40:07</td>\n",
       "    </tr>\n",
       "    <tr>\n",
       "      <th>27094</th>\n",
       "      <td>989109</td>\n",
       "      <td>2016-01-03 22:20:04+00:00</td>\n",
       "      <td>2015-11-13 08:00:00+00:00</td>\n",
       "      <td>51 days 14:20:04</td>\n",
       "    </tr>\n",
       "    <tr>\n",
       "      <th>27095</th>\n",
       "      <td>989143</td>\n",
       "      <td>2016-01-05 08:50:02+00:00</td>\n",
       "      <td>2015-11-03 08:00:00+00:00</td>\n",
       "      <td>63 days 00:50:02</td>\n",
       "    </tr>\n",
       "    <tr>\n",
       "      <th>27096</th>\n",
       "      <td>989240</td>\n",
       "      <td>2016-01-03 20:50:06+00:00</td>\n",
       "      <td>2015-11-03 08:00:00+00:00</td>\n",
       "      <td>61 days 12:50:06</td>\n",
       "    </tr>\n",
       "  </tbody>\n",
       "</table>\n",
       "</div>"
      ],
      "text/plain": [
       "       loan_id   planned_expiration_time             disburse_time  \\\n",
       "27092   988180 2016-01-02 01:00:03+00:00 2015-11-23 08:00:00+00:00   \n",
       "27093   988213 2016-01-02 16:40:07+00:00 2015-11-24 08:00:00+00:00   \n",
       "27094   989109 2016-01-03 22:20:04+00:00 2015-11-13 08:00:00+00:00   \n",
       "27095   989143 2016-01-05 08:50:02+00:00 2015-11-03 08:00:00+00:00   \n",
       "27096   989240 2016-01-03 20:50:06+00:00 2015-11-03 08:00:00+00:00   \n",
       "\n",
       "              duration  \n",
       "27092 39 days 17:00:03  \n",
       "27093 39 days 08:40:07  \n",
       "27094 51 days 14:20:04  \n",
       "27095 63 days 00:50:02  \n",
       "27096 61 days 12:50:06  "
      ]
     },
     "execution_count": 21,
     "metadata": {},
     "output_type": "execute_result"
    }
   ],
   "source": [
    "loans_duration.tail()"
   ]
  },
  {
   "cell_type": "code",
   "execution_count": 25,
   "metadata": {},
   "outputs": [
    {
     "data": {
      "text/plain": [
       "374645"
      ]
     },
     "execution_count": 25,
     "metadata": {},
     "output_type": "execute_result"
    }
   ],
   "source": [
    "#Voglio sapere il numero di valori mancanti nella colonna duration per poterli confrontare\n",
    "#con Tot_Na trovato in precedenza \n",
    "Na_duration = loans.duration.isna().sum().compute()\n",
    "Na_duration"
   ]
  },
  {
   "cell_type": "code",
   "execution_count": 26,
   "metadata": {},
   "outputs": [
    {
     "data": {
      "text/plain": [
       "374647"
      ]
     },
     "execution_count": 26,
     "metadata": {},
     "output_type": "execute_result"
    }
   ],
   "source": [
    "#La colonna duration presenta 2 valori mancanti in meno rispetto al Tot_Na \n",
    "#questo significa che in due casi \"planned_expiration_time\" e \"disburse_time\" presentano Na nella stessa riga\n",
    "Tot_Na"
   ]
  },
  {
   "cell_type": "markdown",
   "metadata": {},
   "source": [
    "### Per lo svolgimento dei successivi punti del progetto, verrà adottata la libreria \"mysql.connector\""
   ]
  },
  {
   "cell_type": "code",
   "execution_count": 27,
   "metadata": {},
   "outputs": [],
   "source": [
    "import mysql.connector\n",
    "from tabulate import tabulate\n"
   ]
  },
  {
   "cell_type": "code",
   "execution_count": 28,
   "metadata": {},
   "outputs": [],
   "source": [
    "mydb = mysql.connector.connect(\n",
    "  host=\"localhost\",\n",
    "  user=\"root\",\n",
    "  passwd=\"ProgettoFCS\",\n",
    "  database=\"kivapisani\"\n",
    ")\n",
    "\n",
    "mycursor = mydb.cursor()"
   ]
  },
  {
   "cell_type": "markdown",
   "metadata": {},
   "source": [
    "# 3. Find the lenders that have funded at least twice."
   ]
  },
  {
   "cell_type": "code",
   "execution_count": 29,
   "metadata": {},
   "outputs": [],
   "source": [
    "query_1 = \"\"\"SELECT lend_name, count(status) as funded\n",
    "FROM norm_loans_lenders LEFT JOIN loans ON loans.loan_id=norm_loans_lenders.loan_id\n",
    "WHERE status='funded'\n",
    "GROUP BY lend_name\n",
    "HAVING funded>1\n",
    "LIMIT 10\"\"\""
   ]
  },
  {
   "cell_type": "code",
   "execution_count": 30,
   "metadata": {},
   "outputs": [
    {
     "name": "stdout",
     "output_type": "stream",
     "text": [
      "+--------------------+--------+\n",
      "|     Lend_name      | Funded |\n",
      "+--------------------+--------+\n",
      "|   bernadette6835   |   27   |\n",
      "|      jean2544      |  417   |\n",
      "|        geko        |   33   |\n",
      "|      lynn9800      |   4    |\n",
      "|      brad4706      |  130   |\n",
      "|       muc888       |  913   |\n",
      "|     dougal1825     |  1141  |\n",
      "| jensdamsgaardvanar |  7815  |\n",
      "|     maeve9455      |   8    |\n",
      "|      toni3909      |   34   |\n",
      "+--------------------+--------+\n"
     ]
    }
   ],
   "source": [
    "mycursor.execute(query_1)\n",
    "myresult = mycursor.fetchall()\n",
    "print(tabulate(myresult, headers=['Lend_name', 'Funded'], tablefmt='pretty'))"
   ]
  },
  {
   "cell_type": "markdown",
   "metadata": {},
   "source": [
    "# 4. For each country, compute how many loans have involved that country as borrowers."
   ]
  },
  {
   "cell_type": "code",
   "execution_count": 31,
   "metadata": {},
   "outputs": [],
   "source": [
    "query_2 = \"\"\"SELECT country_name, count(loan_id) as count\n",
    "FROM loans\n",
    "GROUP BY country_name\n",
    "ORDER BY country_name\"\"\""
   ]
  },
  {
   "cell_type": "code",
   "execution_count": 32,
   "metadata": {
    "scrolled": true
   },
   "outputs": [
    {
     "name": "stdout",
     "output_type": "stream",
     "text": [
      "+--------------------------------------+--------+\n",
      "|             Country_name             | Count  |\n",
      "+--------------------------------------+--------+\n",
      "|             Afghanistan              |  2337  |\n",
      "|               Albania                |  3075  |\n",
      "|               Armenia                | 13952  |\n",
      "|              Azerbaijan              | 10172  |\n",
      "|                Belize                |  218   |\n",
      "|                Benin                 |  5946  |\n",
      "|                Bhutan                |   2    |\n",
      "|               Bolivia                | 25250  |\n",
      "|        Bosnia and Herzegovina        |  608   |\n",
      "|               Botswana               |   1    |\n",
      "|                Brazil                |  482   |\n",
      "|               Bulgaria               |  296   |\n",
      "|             Burkina Faso             |  3489  |\n",
      "|               Burundi                |  1727  |\n",
      "|               Cambodia               | 79701  |\n",
      "|               Cameroon               |  5085  |\n",
      "|                Canada                |   1    |\n",
      "|                 Chad                 |   61   |\n",
      "|                Chile                 |  892   |\n",
      "|                China                 |  134   |\n",
      "|               Colombia               | 33675  |\n",
      "|                Congo                 |  952   |\n",
      "|              Costa Rica              |  4681  |\n",
      "|            Cote D'Ivoire             |  283   |\n",
      "|          Dominican Republic          |  4654  |\n",
      "|               Ecuador                | 33471  |\n",
      "|                Egypt                 |  2460  |\n",
      "|             El Salvador              | 64037  |\n",
      "|                 Gaza                 |   8    |\n",
      "|               Georgia                |  6483  |\n",
      "|                Ghana                 | 22121  |\n",
      "|                 Guam                 |   4    |\n",
      "|              Guatemala               | 12864  |\n",
      "|                Haiti                 |  4765  |\n",
      "|               Honduras               | 15130  |\n",
      "|                India                 | 15104  |\n",
      "|              Indonesia               | 10699  |\n",
      "|                 Iraq                 |  3570  |\n",
      "|                Israel                |  464   |\n",
      "|                Jordan                | 10161  |\n",
      "|                Kenya                 | 143699 |\n",
      "|                Kosovo                |  2178  |\n",
      "|              Kyrgyzstan              | 11243  |\n",
      "|   Lao People's Democratic Republic   |  1758  |\n",
      "|               Lebanon                | 20083  |\n",
      "|               Lesotho                |  648   |\n",
      "|               Liberia                | 11170  |\n",
      "|              Madagascar              |  4872  |\n",
      "|                Malawi                |  1731  |\n",
      "|                 Mali                 | 13352  |\n",
      "|              Mauritania              |   1    |\n",
      "|                Mexico                | 19708  |\n",
      "|               Moldova                |  732   |\n",
      "|               Mongolia               |  9659  |\n",
      "|              Mozambique              |  7086  |\n",
      "|           Myanmar (Burma)            |  2724  |\n",
      "|               Namibia                |   9    |\n",
      "|                Nepal                 |  2215  |\n",
      "|              Nicaragua               | 42519  |\n",
      "|               Nigeria                | 20015  |\n",
      "|               Pakistan               | 45120  |\n",
      "|              Palestine               | 13422  |\n",
      "|                Panama                |  196   |\n",
      "|           Papua New Guinea           |   1    |\n",
      "|               Paraguay               | 24787  |\n",
      "|                 Peru                 | 86000  |\n",
      "|             Philippines              | 285336 |\n",
      "|             Puerto Rico              |   80   |\n",
      "|                Rwanda                | 16774  |\n",
      "|   Saint Vincent and the Grenadines   |   16   |\n",
      "|                Samoa                 | 16435  |\n",
      "|               Senegal                | 12107  |\n",
      "|             Sierra Leone             | 15576  |\n",
      "|           Solomon Islands            |  903   |\n",
      "|               Somalia                |  227   |\n",
      "|             South Africa             |  633   |\n",
      "|             South Sudan              |  5820  |\n",
      "|              Sri Lanka               |  264   |\n",
      "|               Suriname               |  292   |\n",
      "|              Tajikistan              | 43942  |\n",
      "|               Tanzania               | 16110  |\n",
      "|               Thailand               |  247   |\n",
      "| The Democratic Republic of the Congo |  5074  |\n",
      "|             Timor-Leste              |  3816  |\n",
      "|                 Togo                 | 17106  |\n",
      "|                Turkey                |  2008  |\n",
      "|                Uganda                | 45882  |\n",
      "|               Ukraine                |  4994  |\n",
      "|            United States             |  9180  |\n",
      "|               Uruguay                |   1    |\n",
      "|               Vanuatu                |   4    |\n",
      "|               Vietnam                | 21839  |\n",
      "|            Virgin Islands            |   2    |\n",
      "|                Yemen                 |  4206  |\n",
      "|                Zambia                |  1277  |\n",
      "|               Zimbabwe               |  5513  |\n",
      "+--------------------------------------+--------+\n"
     ]
    }
   ],
   "source": [
    "mycursor.execute(query_2)\n",
    "myresult = mycursor.fetchall()\n",
    "print(tabulate(myresult, headers=['Country_name', 'Count'], tablefmt='pretty'))"
   ]
  },
  {
   "cell_type": "markdown",
   "metadata": {},
   "source": [
    "# 5. For each country, compute the overall amount of money borrowed."
   ]
  },
  {
   "cell_type": "code",
   "execution_count": 33,
   "metadata": {},
   "outputs": [],
   "source": [
    "query_3 = \"\"\"Select country_name, sum(loan_amount) as money_borrowed\n",
    "from loans\n",
    "group by country_name\n",
    "order by country_name\"\"\""
   ]
  },
  {
   "cell_type": "code",
   "execution_count": 34,
   "metadata": {
    "scrolled": true
   },
   "outputs": [
    {
     "name": "stdout",
     "output_type": "stream",
     "text": [
      "+--------------------------------------+----------------+\n",
      "|             Country_name             | Money_borrowed |\n",
      "+--------------------------------------+----------------+\n",
      "|             Afghanistan              |    1967950     |\n",
      "|               Albania                |    4307350     |\n",
      "|               Armenia                |    22950475    |\n",
      "|              Azerbaijan              |    14784625    |\n",
      "|                Belize                |     150175     |\n",
      "|                Benin                 |    3865825     |\n",
      "|                Bhutan                |     20000      |\n",
      "|               Bolivia                |    44226725    |\n",
      "|        Bosnia and Herzegovina        |     477250     |\n",
      "|               Botswana               |      8000      |\n",
      "|                Brazil                |    1192325     |\n",
      "|               Bulgaria               |     375300     |\n",
      "|             Burkina Faso             |    4085200     |\n",
      "|               Burundi                |    5233450     |\n",
      "|               Cambodia               |    51613525    |\n",
      "|               Cameroon               |    2250800     |\n",
      "|                Canada                |     50000      |\n",
      "|                 Chad                 |     20075      |\n",
      "|                Chile                 |    2595925     |\n",
      "|                China                 |     380525     |\n",
      "|               Colombia               |    23613975    |\n",
      "|                Congo                 |    2265350     |\n",
      "|              Costa Rica              |    5644350     |\n",
      "|            Cote D'Ivoire             |     345300     |\n",
      "|          Dominican Republic          |    9308000     |\n",
      "|               Ecuador                |    35519000    |\n",
      "|                Egypt                 |    1415025     |\n",
      "|             El Salvador              |    41691550    |\n",
      "|                 Gaza                 |      5000      |\n",
      "|               Georgia                |    9570425     |\n",
      "|                Ghana                 |    15262725    |\n",
      "|                 Guam                 |     17300      |\n",
      "|              Guatemala               |    18718050    |\n",
      "|                Haiti                 |    4496150     |\n",
      "|               Honduras               |    11989325    |\n",
      "|                India                 |    8988200     |\n",
      "|              Indonesia               |    8104600     |\n",
      "|                 Iraq                 |    9166125     |\n",
      "|                Israel                |    1732725     |\n",
      "|                Jordan                |    11007450    |\n",
      "|                Kenya                 |    66735975    |\n",
      "|                Kosovo                |    3083025     |\n",
      "|              Kyrgyzstan              |    14726900    |\n",
      "|   Lao People's Democratic Republic   |    1284800     |\n",
      "|               Lebanon                |    27397150    |\n",
      "|               Lesotho                |     516450     |\n",
      "|               Liberia                |    3928775     |\n",
      "|              Madagascar              |    1539075     |\n",
      "|                Malawi                |    2182675     |\n",
      "|                 Mali                 |    15504675    |\n",
      "|              Mauritania              |     15000      |\n",
      "|                Mexico                |    25106300    |\n",
      "|               Moldova                |    1357300     |\n",
      "|               Mongolia               |    15348375    |\n",
      "|              Mozambique              |    4181100     |\n",
      "|           Myanmar (Burma)            |    4201550     |\n",
      "|               Namibia                |     39525      |\n",
      "|                Nepal                 |     756125     |\n",
      "|              Nicaragua               |    30153225    |\n",
      "|               Nigeria                |    7751725     |\n",
      "|               Pakistan               |    24995850    |\n",
      "|              Palestine               |    22316675    |\n",
      "|                Panama                |     321275     |\n",
      "|           Papua New Guinea           |     50000      |\n",
      "|               Paraguay               |    53964700    |\n",
      "|                 Peru                 |    79437775    |\n",
      "|             Philippines              |    97984600    |\n",
      "|             Puerto Rico              |     441900     |\n",
      "|                Rwanda                |    29157325    |\n",
      "|   Saint Vincent and the Grenadines   |     49225      |\n",
      "|                Samoa                 |    12212175    |\n",
      "|               Senegal                |    17952175    |\n",
      "|             Sierra Leone             |    11967500    |\n",
      "|           Solomon Islands            |     815575     |\n",
      "|               Somalia                |     308725     |\n",
      "|             South Africa             |    1006525     |\n",
      "|             South Sudan              |    2418300     |\n",
      "|              Sri Lanka               |     74800      |\n",
      "|               Suriname               |     748925     |\n",
      "|              Tajikistan              |    39622125    |\n",
      "|               Tanzania               |    18720300    |\n",
      "|               Thailand               |     608925     |\n",
      "| The Democratic Republic of the Congo |    18813425    |\n",
      "|             Timor-Leste              |    3482400     |\n",
      "|                 Togo                 |    10022825    |\n",
      "|                Turkey                |     903925     |\n",
      "|                Uganda                |    38386500    |\n",
      "|               Ukraine                |    7091800     |\n",
      "|            United States             |    46352000    |\n",
      "|               Uruguay                |      8000      |\n",
      "|               Vanuatu                |      9250      |\n",
      "|               Vietnam                |    24681100    |\n",
      "|            Virgin Islands            |     10000      |\n",
      "|                Yemen                 |    3444000     |\n",
      "|                Zambia                |    1978975     |\n",
      "|               Zimbabwe               |    5851875     |\n",
      "+--------------------------------------+----------------+\n"
     ]
    }
   ],
   "source": [
    "mycursor.execute(query_3)\n",
    "myresult = mycursor.fetchall()\n",
    "print ((tabulate(myresult, headers=['Country_name', 'Money_borrowed'], tablefmt='pretty')))"
   ]
  },
  {
   "cell_type": "markdown",
   "metadata": {},
   "source": [
    "# 6. Like the previous point, but expressed as a percentage of the overall amount lent."
   ]
  },
  {
   "cell_type": "code",
   "execution_count": 35,
   "metadata": {},
   "outputs": [],
   "source": [
    "query_4 = \"\"\"Select distinct country_name, \n",
    "sum(loan_amount),\n",
    "sum(loan_amount)*100/(select sum(loan_amount) from loans) as perc_money_borrowed\n",
    "from loans\n",
    "group by country_name\n",
    "order by country_name\"\"\""
   ]
  },
  {
   "cell_type": "code",
   "execution_count": 36,
   "metadata": {
    "scrolled": true
   },
   "outputs": [
    {
     "name": "stdout",
     "output_type": "stream",
     "text": [
      "+--------------------------------------+----------------+---------------------+\n",
      "|             Country_name             | Money_borrowed | Perc_money_borrowed |\n",
      "+--------------------------------------+----------------+---------------------+\n",
      "|             Afghanistan              |    1967950     |       0.1666        |\n",
      "|               Albania                |    4307350     |       0.3646        |\n",
      "|               Armenia                |    22950475    |       1.9426        |\n",
      "|              Azerbaijan              |    14784625    |       1.2514        |\n",
      "|                Belize                |     150175     |       0.0127        |\n",
      "|                Benin                 |    3865825     |       0.3272        |\n",
      "|                Bhutan                |     20000      |       0.0017        |\n",
      "|               Bolivia                |    44226725    |       3.7435        |\n",
      "|        Bosnia and Herzegovina        |     477250     |       0.0404        |\n",
      "|               Botswana               |      8000      |       0.0007        |\n",
      "|                Brazil                |    1192325     |       0.1009        |\n",
      "|               Bulgaria               |     375300     |       0.0318        |\n",
      "|             Burkina Faso             |    4085200     |       0.3458        |\n",
      "|               Burundi                |    5233450     |       0.4430        |\n",
      "|               Cambodia               |    51613525    |       4.3687        |\n",
      "|               Cameroon               |    2250800     |       0.1905        |\n",
      "|                Canada                |     50000      |       0.0042        |\n",
      "|                 Chad                 |     20075      |       0.0017        |\n",
      "|                Chile                 |    2595925     |       0.2197        |\n",
      "|                China                 |     380525     |       0.0322        |\n",
      "|               Colombia               |    23613975    |       1.9987        |\n",
      "|                Congo                 |    2265350     |       0.1917        |\n",
      "|              Costa Rica              |    5644350     |       0.4778        |\n",
      "|            Cote D'Ivoire             |     345300     |       0.0292        |\n",
      "|          Dominican Republic          |    9308000     |       0.7879        |\n",
      "|               Ecuador                |    35519000    |       3.0064        |\n",
      "|                Egypt                 |    1415025     |       0.1198        |\n",
      "|             El Salvador              |    41691550    |       3.5289        |\n",
      "|                 Gaza                 |      5000      |       0.0004        |\n",
      "|               Georgia                |    9570425     |       0.8101        |\n",
      "|                Ghana                 |    15262725    |       1.2919        |\n",
      "|                 Guam                 |     17300      |       0.0015        |\n",
      "|              Guatemala               |    18718050    |       1.5843        |\n",
      "|                Haiti                 |    4496150     |       0.3806        |\n",
      "|               Honduras               |    11989325    |       1.0148        |\n",
      "|                India                 |    8988200     |       0.7608        |\n",
      "|              Indonesia               |    8104600     |       0.6860        |\n",
      "|                 Iraq                 |    9166125     |       0.7758        |\n",
      "|                Israel                |    1732725     |       0.1467        |\n",
      "|                Jordan                |    11007450    |       0.9317        |\n",
      "|                Kenya                 |    66735975    |       5.6487        |\n",
      "|                Kosovo                |    3083025     |       0.2610        |\n",
      "|              Kyrgyzstan              |    14726900    |       1.2465        |\n",
      "|   Lao People's Democratic Republic   |    1284800     |       0.1087        |\n",
      "|               Lebanon                |    27397150    |       2.3190        |\n",
      "|               Lesotho                |     516450     |       0.0437        |\n",
      "|               Liberia                |    3928775     |       0.3325        |\n",
      "|              Madagascar              |    1539075     |       0.1303        |\n",
      "|                Malawi                |    2182675     |       0.1847        |\n",
      "|                 Mali                 |    15504675    |       1.3124        |\n",
      "|              Mauritania              |     15000      |       0.0013        |\n",
      "|                Mexico                |    25106300    |       2.1251        |\n",
      "|               Moldova                |    1357300     |       0.1149        |\n",
      "|               Mongolia               |    15348375    |       1.2991        |\n",
      "|              Mozambique              |    4181100     |       0.3539        |\n",
      "|           Myanmar (Burma)            |    4201550     |       0.3556        |\n",
      "|               Namibia                |     39525      |       0.0033        |\n",
      "|                Nepal                 |     756125     |       0.0640        |\n",
      "|              Nicaragua               |    30153225    |       2.5522        |\n",
      "|               Nigeria                |    7751725     |       0.6561        |\n",
      "|               Pakistan               |    24995850    |       2.1157        |\n",
      "|              Palestine               |    22316675    |       1.8889        |\n",
      "|                Panama                |     321275     |       0.0272        |\n",
      "|           Papua New Guinea           |     50000      |       0.0042        |\n",
      "|               Paraguay               |    53964700    |       4.5677        |\n",
      "|                 Peru                 |    79437775    |       6.7238        |\n",
      "|             Philippines              |    97984600    |       8.2937        |\n",
      "|             Puerto Rico              |     441900     |       0.0374        |\n",
      "|                Rwanda                |    29157325    |       2.4680        |\n",
      "|   Saint Vincent and the Grenadines   |     49225      |       0.0042        |\n",
      "|                Samoa                 |    12212175    |       1.0337        |\n",
      "|               Senegal                |    17952175    |       1.5195        |\n",
      "|             Sierra Leone             |    11967500    |       1.0130        |\n",
      "|           Solomon Islands            |     815575     |       0.0690        |\n",
      "|               Somalia                |     308725     |       0.0261        |\n",
      "|             South Africa             |    1006525     |       0.0852        |\n",
      "|             South Sudan              |    2418300     |       0.2047        |\n",
      "|              Sri Lanka               |     74800      |       0.0063        |\n",
      "|               Suriname               |     748925     |       0.0634        |\n",
      "|              Tajikistan              |    39622125    |       3.3537        |\n",
      "|               Tanzania               |    18720300    |       1.5845        |\n",
      "|               Thailand               |     608925     |       0.0515        |\n",
      "| The Democratic Republic of the Congo |    18813425    |       1.5924        |\n",
      "|             Timor-Leste              |    3482400     |       0.2948        |\n",
      "|                 Togo                 |    10022825    |       0.8484        |\n",
      "|                Turkey                |     903925     |       0.0765        |\n",
      "|                Uganda                |    38386500    |       3.2491        |\n",
      "|               Ukraine                |    7091800     |       0.6003        |\n",
      "|            United States             |    46352000    |       3.9234        |\n",
      "|               Uruguay                |      8000      |       0.0007        |\n",
      "|               Vanuatu                |      9250      |       0.0008        |\n",
      "|               Vietnam                |    24681100    |       2.0891        |\n",
      "|            Virgin Islands            |     10000      |       0.0008        |\n",
      "|                Yemen                 |    3444000     |       0.2915        |\n",
      "|                Zambia                |    1978975     |       0.1675        |\n",
      "|               Zimbabwe               |    5851875     |       0.4953        |\n",
      "+--------------------------------------+----------------+---------------------+\n"
     ]
    }
   ],
   "source": [
    "mycursor.execute(query_4)\n",
    "myresult = mycursor.fetchall()\n",
    "print ((tabulate(myresult, headers=['Country_name','Money_borrowed', 'Perc_money_borrowed'], tablefmt='pretty')))"
   ]
  },
  {
   "cell_type": "markdown",
   "metadata": {},
   "source": [
    "# 7. Like the three previous points, but split for each year (with respect to disburse time )."
   ]
  },
  {
   "cell_type": "code",
   "execution_count": 22,
   "metadata": {},
   "outputs": [],
   "source": [
    "#Nella clausola where richiedo di estrarre solo le righe in cui disburse_time sia maggiore di planned_expiration_time\n",
    "#Escludo anche le percentuali pari a 0\n",
    "query_5 = \"\"\"Select country_name, \n",
    "EXTRACT(YEAR from disburse_time) AS year, \n",
    "sum(loan_amount) as money_borrowed,\n",
    "sum(loan_amount)/(select sum(loan_amount) from loans) as perc_money_borrowed\n",
    "from loans\n",
    "where disburse_time > planned_expiration_time\n",
    "group by country_name, year\n",
    "having perc_money_borrowed > 0.00009\n",
    "ORDER BY country_name\n",
    "LIMIT 50\"\"\""
   ]
  },
  {
   "cell_type": "code",
   "execution_count": 38,
   "metadata": {
    "scrolled": false
   },
   "outputs": [
    {
     "name": "stdout",
     "output_type": "stream",
     "text": [
      "+------------------------+---------------+----------------+---------------------+\n",
      "|      Country_name      | Disburse_time | Money_borrowed | Perc_money_borrowed |\n",
      "+------------------------+---------------+----------------+---------------------+\n",
      "|      Afghanistan       |     2007      |     194975     |       0.0002        |\n",
      "|      Afghanistan       |     2008      |     365375     |       0.0003        |\n",
      "|      Afghanistan       |     2009      |     585125     |       0.0005        |\n",
      "|      Afghanistan       |     2010      |     563350     |       0.0005        |\n",
      "|      Afghanistan       |     2011      |     245125     |       0.0002        |\n",
      "|        Armenia         |     2010      |     731875     |       0.0006        |\n",
      "|        Armenia         |     2011      |    1546775     |       0.0013        |\n",
      "|       Azerbaijan       |     2007      |    1892775     |       0.0016        |\n",
      "|       Azerbaijan       |     2008      |    1395475     |       0.0012        |\n",
      "|       Azerbaijan       |     2009      |    1598625     |       0.0014        |\n",
      "|       Azerbaijan       |     2010      |    1408775     |       0.0012        |\n",
      "|       Azerbaijan       |     2011      |    1621475     |       0.0014        |\n",
      "|         Benin          |     2008      |     222025     |       0.0002        |\n",
      "|         Benin          |     2009      |     343325     |       0.0003        |\n",
      "|         Benin          |     2010      |     339550     |       0.0003        |\n",
      "|         Benin          |     2011      |     828800     |       0.0007        |\n",
      "|        Bolivia         |     2007      |     304700     |       0.0003        |\n",
      "|        Bolivia         |     2008      |    1847275     |       0.0016        |\n",
      "|        Bolivia         |     2009      |    4333025     |       0.0037        |\n",
      "|        Bolivia         |     2010      |    3109175     |       0.0026        |\n",
      "|        Bolivia         |     2011      |    2769750     |       0.0023        |\n",
      "| Bosnia and Herzegovina |     2008      |     404450     |       0.0003        |\n",
      "|        Bulgaria        |     2007      |     263050     |       0.0002        |\n",
      "|        Burundi         |     2010      |     191975     |       0.0002        |\n",
      "|        Burundi         |     2011      |     565400     |       0.0005        |\n",
      "|        Cambodia        |     2007      |    1111875     |       0.0009        |\n",
      "|        Cambodia        |     2008      |    4821475     |       0.0041        |\n",
      "|        Cambodia        |     2009      |    4997450     |       0.0042        |\n",
      "|        Cambodia        |     2010      |    5845725     |       0.0049        |\n",
      "|        Cambodia        |     2011      |    4298400     |       0.0036        |\n",
      "|        Cameroon        |     2007      |     116650     |       0.0001        |\n",
      "|        Cameroon        |     2008      |     120450     |       0.0001        |\n",
      "|         Chile          |     2010      |     281550     |       0.0002        |\n",
      "|         Chile          |     2011      |     604725     |       0.0005        |\n",
      "|        Colombia        |     2010      |     540675     |       0.0005        |\n",
      "|        Colombia        |     2011      |    1406075     |       0.0012        |\n",
      "|         Congo          |     2011      |     228650     |       0.0002        |\n",
      "|       Costa Rica       |     2009      |     211050     |       0.0002        |\n",
      "|       Costa Rica       |     2010      |     609275     |       0.0005        |\n",
      "|       Costa Rica       |     2011      |     614975     |       0.0005        |\n",
      "|       Costa Rica       |     2015      |     156800     |       0.0001        |\n",
      "|     Cote D'Ivoire      |     2007      |     190275     |       0.0002        |\n",
      "|   Dominican Republic   |     2007      |     246125     |       0.0002        |\n",
      "|   Dominican Republic   |     2008      |    1074800     |       0.0009        |\n",
      "|   Dominican Republic   |     2009      |    1054200     |       0.0009        |\n",
      "|   Dominican Republic   |     2010      |    1443200     |       0.0012        |\n",
      "|   Dominican Republic   |     2011      |    1116050     |       0.0009        |\n",
      "|   Dominican Republic   |     2015      |     117850     |       0.0001        |\n",
      "|        Ecuador         |     2006      |     151175     |       0.0001        |\n",
      "|        Ecuador         |     2007      |     944575     |       0.0008        |\n",
      "+------------------------+---------------+----------------+---------------------+\n"
     ]
    }
   ],
   "source": [
    "mycursor.execute(query_5)\n",
    "myresult = mycursor.fetchall()\n",
    "print ((tabulate(myresult, headers=['Country_name', 'Disburse_time', 'Money_borrowed', 'Perc_money_borrowed'], tablefmt='pretty')))"
   ]
  },
  {
   "cell_type": "markdown",
   "metadata": {},
   "source": [
    "# 8. For each lender, compute the overall amount of money lent. For each loan that has more than one lender, you must assume that all lenders contributed the same amount.\n"
   ]
  },
  {
   "cell_type": "markdown",
   "metadata": {},
   "source": [
    "###### Da questo punto e fino alla fine del progetto smetto di usare Mysql connector, le query richieste dai punti successive risulterebbero troppo onerose computazionalmente e si perderebbe il vantaggio avuto nei punti precedenti. "
   ]
  },
  {
   "cell_type": "markdown",
   "metadata": {},
   "source": [
    "###### Inoltre, come primo passo per la risoluzione di questo punto, converto i dataframe Dask utilizzati nei primi 2 punti (norm_loans_lenders e loans). Questo perchè incontrerebbero dei limiti con le funzioni di join e group by che la richiesta prevede. Infatti, anche se molte delle operazioni di pandas possono essere replicate con Dask (anche più efficientemente), questo trova difficoltà  nel gestire operazioni come group-by, set_index e join su colonne rendendo il tutto più lento e dispendioso. "
   ]
  },
  {
   "cell_type": "code",
   "execution_count": 6,
   "metadata": {},
   "outputs": [],
   "source": [
    "#Converto i dataframe dask in pandas con la funzione .compute()\n",
    "norm_loans_lenders = norm_loans_lenders.compute()"
   ]
  },
  {
   "cell_type": "code",
   "execution_count": 7,
   "metadata": {},
   "outputs": [],
   "source": [
    "loans = loans.compute()"
   ]
  },
  {
   "cell_type": "code",
   "execution_count": 8,
   "metadata": {},
   "outputs": [],
   "source": [
    "# comincio a ricavare il numero di lenders per ogni loan_id ed eseguo una group by per loan_id\n",
    "lenders_per_loan = norm_loans_lenders.groupby(\"loan_id\").count().reset_index().rename(columns={\"lenders\" : \"lenders_count\"})"
   ]
  },
  {
   "cell_type": "code",
   "execution_count": 9,
   "metadata": {},
   "outputs": [
    {
     "data": {
      "text/html": [
       "<div>\n",
       "<style scoped>\n",
       "    .dataframe tbody tr th:only-of-type {\n",
       "        vertical-align: middle;\n",
       "    }\n",
       "\n",
       "    .dataframe tbody tr th {\n",
       "        vertical-align: top;\n",
       "    }\n",
       "\n",
       "    .dataframe thead th {\n",
       "        text-align: right;\n",
       "    }\n",
       "</style>\n",
       "<table border=\"1\" class=\"dataframe\">\n",
       "  <thead>\n",
       "    <tr style=\"text-align: right;\">\n",
       "      <th></th>\n",
       "      <th>loan_id</th>\n",
       "      <th>lenders_count</th>\n",
       "    </tr>\n",
       "  </thead>\n",
       "  <tbody>\n",
       "    <tr>\n",
       "      <th>0</th>\n",
       "      <td>84</td>\n",
       "      <td>3</td>\n",
       "    </tr>\n",
       "    <tr>\n",
       "      <th>1</th>\n",
       "      <td>85</td>\n",
       "      <td>2</td>\n",
       "    </tr>\n",
       "    <tr>\n",
       "      <th>2</th>\n",
       "      <td>86</td>\n",
       "      <td>3</td>\n",
       "    </tr>\n",
       "    <tr>\n",
       "      <th>3</th>\n",
       "      <td>88</td>\n",
       "      <td>3</td>\n",
       "    </tr>\n",
       "    <tr>\n",
       "      <th>4</th>\n",
       "      <td>89</td>\n",
       "      <td>4</td>\n",
       "    </tr>\n",
       "  </tbody>\n",
       "</table>\n",
       "</div>"
      ],
      "text/plain": [
       "   loan_id  lenders_count\n",
       "0       84              3\n",
       "1       85              2\n",
       "2       86              3\n",
       "3       88              3\n",
       "4       89              4"
      ]
     },
     "execution_count": 9,
     "metadata": {},
     "output_type": "execute_result"
    }
   ],
   "source": [
    "lenders_per_loan.head()"
   ]
  },
  {
   "cell_type": "code",
   "execution_count": 10,
   "metadata": {},
   "outputs": [
    {
     "ename": "KeyboardInterrupt",
     "evalue": "",
     "output_type": "error",
     "traceback": [
      "\u001b[0;31m---------------------------------------------------------------------------\u001b[0m",
      "\u001b[0;31mKeyboardInterrupt\u001b[0m                         Traceback (most recent call last)",
      "\u001b[0;32m<ipython-input-10-d94692c122de>\u001b[0m in \u001b[0;36m<module>\u001b[0;34m\u001b[0m\n\u001b[1;32m      1\u001b[0m \u001b[0;31m# eseguo una merge con loans per avere anche le informazioni riguardanti il loan_amount\u001b[0m\u001b[0;34m\u001b[0m\u001b[0;34m\u001b[0m\u001b[0;34m\u001b[0m\u001b[0m\n\u001b[0;32m----> 2\u001b[0;31m \u001b[0mlenders_loan_amount\u001b[0m \u001b[0;34m=\u001b[0m \u001b[0mpd\u001b[0m\u001b[0;34m.\u001b[0m\u001b[0mmerge\u001b[0m\u001b[0;34m(\u001b[0m\u001b[0mlenders_per_loan\u001b[0m\u001b[0;34m,\u001b[0m \u001b[0mloans\u001b[0m\u001b[0;34m,\u001b[0m \u001b[0mon\u001b[0m\u001b[0;34m=\u001b[0m\u001b[0;34m\"loan_id\"\u001b[0m\u001b[0;34m)\u001b[0m\u001b[0;34m[\u001b[0m\u001b[0;34m[\u001b[0m\u001b[0;34m\"loan_id\"\u001b[0m\u001b[0;34m,\u001b[0m \u001b[0;34m\"lenders_count\"\u001b[0m\u001b[0;34m,\u001b[0m \u001b[0;34m\"loan_amount\"\u001b[0m\u001b[0;34m]\u001b[0m\u001b[0;34m]\u001b[0m\u001b[0;34m\u001b[0m\u001b[0;34m\u001b[0m\u001b[0m\n\u001b[0m\u001b[1;32m      3\u001b[0m \u001b[0;31m#loans_ = loans.set_index('loan_id')\u001b[0m\u001b[0;34m\u001b[0m\u001b[0;34m\u001b[0m\u001b[0;34m\u001b[0m\u001b[0m\n\u001b[1;32m      4\u001b[0m \u001b[0;31m#lenders_per_loan_= lenders_per_loan.set_index('loan_id')\u001b[0m\u001b[0;34m\u001b[0m\u001b[0;34m\u001b[0m\u001b[0;34m\u001b[0m\u001b[0m\n\u001b[1;32m      5\u001b[0m \u001b[0;31m#lenders_loan_amount= lenders_per_loan_.merge(loans_, left_index=True, right_index=True)\u001b[0m\u001b[0;34m\u001b[0m\u001b[0;34m\u001b[0m\u001b[0;34m\u001b[0m\u001b[0m\n",
      "\u001b[0;32m/opt/anaconda3/lib/python3.7/site-packages/pandas/core/reshape/merge.py\u001b[0m in \u001b[0;36mmerge\u001b[0;34m(left, right, how, on, left_on, right_on, left_index, right_index, sort, suffixes, copy, indicator, validate)\u001b[0m\n\u001b[1;32m     86\u001b[0m         \u001b[0mvalidate\u001b[0m\u001b[0;34m=\u001b[0m\u001b[0mvalidate\u001b[0m\u001b[0;34m,\u001b[0m\u001b[0;34m\u001b[0m\u001b[0;34m\u001b[0m\u001b[0m\n\u001b[1;32m     87\u001b[0m     )\n\u001b[0;32m---> 88\u001b[0;31m     \u001b[0;32mreturn\u001b[0m \u001b[0mop\u001b[0m\u001b[0;34m.\u001b[0m\u001b[0mget_result\u001b[0m\u001b[0;34m(\u001b[0m\u001b[0;34m)\u001b[0m\u001b[0;34m\u001b[0m\u001b[0;34m\u001b[0m\u001b[0m\n\u001b[0m\u001b[1;32m     89\u001b[0m \u001b[0;34m\u001b[0m\u001b[0m\n\u001b[1;32m     90\u001b[0m \u001b[0;34m\u001b[0m\u001b[0m\n",
      "\u001b[0;32m/opt/anaconda3/lib/python3.7/site-packages/pandas/core/reshape/merge.py\u001b[0m in \u001b[0;36mget_result\u001b[0;34m(self)\u001b[0m\n\u001b[1;32m    657\u001b[0m             \u001b[0maxes\u001b[0m\u001b[0;34m=\u001b[0m\u001b[0;34m[\u001b[0m\u001b[0mllabels\u001b[0m\u001b[0;34m.\u001b[0m\u001b[0mappend\u001b[0m\u001b[0;34m(\u001b[0m\u001b[0mrlabels\u001b[0m\u001b[0;34m)\u001b[0m\u001b[0;34m,\u001b[0m \u001b[0mjoin_index\u001b[0m\u001b[0;34m]\u001b[0m\u001b[0;34m,\u001b[0m\u001b[0;34m\u001b[0m\u001b[0;34m\u001b[0m\u001b[0m\n\u001b[1;32m    658\u001b[0m             \u001b[0mconcat_axis\u001b[0m\u001b[0;34m=\u001b[0m\u001b[0;36m0\u001b[0m\u001b[0;34m,\u001b[0m\u001b[0;34m\u001b[0m\u001b[0;34m\u001b[0m\u001b[0m\n\u001b[0;32m--> 659\u001b[0;31m             \u001b[0mcopy\u001b[0m\u001b[0;34m=\u001b[0m\u001b[0mself\u001b[0m\u001b[0;34m.\u001b[0m\u001b[0mcopy\u001b[0m\u001b[0;34m,\u001b[0m\u001b[0;34m\u001b[0m\u001b[0;34m\u001b[0m\u001b[0m\n\u001b[0m\u001b[1;32m    660\u001b[0m         )\n\u001b[1;32m    661\u001b[0m \u001b[0;34m\u001b[0m\u001b[0m\n",
      "\u001b[0;32m/opt/anaconda3/lib/python3.7/site-packages/pandas/core/internals/managers.py\u001b[0m in \u001b[0;36mconcatenate_block_managers\u001b[0;34m(mgrs_indexers, axes, concat_axis, copy)\u001b[0m\n\u001b[1;32m   2020\u001b[0m         \u001b[0;32melse\u001b[0m\u001b[0;34m:\u001b[0m\u001b[0;34m\u001b[0m\u001b[0;34m\u001b[0m\u001b[0m\n\u001b[1;32m   2021\u001b[0m             b = make_block(\n\u001b[0;32m-> 2022\u001b[0;31m                 \u001b[0mconcatenate_join_units\u001b[0m\u001b[0;34m(\u001b[0m\u001b[0mjoin_units\u001b[0m\u001b[0;34m,\u001b[0m \u001b[0mconcat_axis\u001b[0m\u001b[0;34m,\u001b[0m \u001b[0mcopy\u001b[0m\u001b[0;34m=\u001b[0m\u001b[0mcopy\u001b[0m\u001b[0;34m)\u001b[0m\u001b[0;34m,\u001b[0m\u001b[0;34m\u001b[0m\u001b[0;34m\u001b[0m\u001b[0m\n\u001b[0m\u001b[1;32m   2023\u001b[0m                 \u001b[0mplacement\u001b[0m\u001b[0;34m=\u001b[0m\u001b[0mplacement\u001b[0m\u001b[0;34m,\u001b[0m\u001b[0;34m\u001b[0m\u001b[0;34m\u001b[0m\u001b[0m\n\u001b[1;32m   2024\u001b[0m             )\n",
      "\u001b[0;32m/opt/anaconda3/lib/python3.7/site-packages/pandas/core/internals/concat.py\u001b[0m in \u001b[0;36mconcatenate_join_units\u001b[0;34m(join_units, concat_axis, copy)\u001b[0m\n\u001b[1;32m    246\u001b[0m     to_concat = [\n\u001b[1;32m    247\u001b[0m         \u001b[0mju\u001b[0m\u001b[0;34m.\u001b[0m\u001b[0mget_reindexed_values\u001b[0m\u001b[0;34m(\u001b[0m\u001b[0mempty_dtype\u001b[0m\u001b[0;34m=\u001b[0m\u001b[0mempty_dtype\u001b[0m\u001b[0;34m,\u001b[0m \u001b[0mupcasted_na\u001b[0m\u001b[0;34m=\u001b[0m\u001b[0mupcasted_na\u001b[0m\u001b[0;34m)\u001b[0m\u001b[0;34m\u001b[0m\u001b[0;34m\u001b[0m\u001b[0m\n\u001b[0;32m--> 248\u001b[0;31m         \u001b[0;32mfor\u001b[0m \u001b[0mju\u001b[0m \u001b[0;32min\u001b[0m \u001b[0mjoin_units\u001b[0m\u001b[0;34m\u001b[0m\u001b[0;34m\u001b[0m\u001b[0m\n\u001b[0m\u001b[1;32m    249\u001b[0m     ]\n\u001b[1;32m    250\u001b[0m \u001b[0;34m\u001b[0m\u001b[0m\n",
      "\u001b[0;32m/opt/anaconda3/lib/python3.7/site-packages/pandas/core/internals/concat.py\u001b[0m in \u001b[0;36m<listcomp>\u001b[0;34m(.0)\u001b[0m\n\u001b[1;32m    246\u001b[0m     to_concat = [\n\u001b[1;32m    247\u001b[0m         \u001b[0mju\u001b[0m\u001b[0;34m.\u001b[0m\u001b[0mget_reindexed_values\u001b[0m\u001b[0;34m(\u001b[0m\u001b[0mempty_dtype\u001b[0m\u001b[0;34m=\u001b[0m\u001b[0mempty_dtype\u001b[0m\u001b[0;34m,\u001b[0m \u001b[0mupcasted_na\u001b[0m\u001b[0;34m=\u001b[0m\u001b[0mupcasted_na\u001b[0m\u001b[0;34m)\u001b[0m\u001b[0;34m\u001b[0m\u001b[0;34m\u001b[0m\u001b[0m\n\u001b[0;32m--> 248\u001b[0;31m         \u001b[0;32mfor\u001b[0m \u001b[0mju\u001b[0m \u001b[0;32min\u001b[0m \u001b[0mjoin_units\u001b[0m\u001b[0;34m\u001b[0m\u001b[0;34m\u001b[0m\u001b[0m\n\u001b[0m\u001b[1;32m    249\u001b[0m     ]\n\u001b[1;32m    250\u001b[0m \u001b[0;34m\u001b[0m\u001b[0m\n",
      "\u001b[0;32m/opt/anaconda3/lib/python3.7/site-packages/pandas/core/internals/concat.py\u001b[0m in \u001b[0;36mget_reindexed_values\u001b[0;34m(self, empty_dtype, upcasted_na)\u001b[0m\n\u001b[1;32m    229\u001b[0m         \u001b[0;32melse\u001b[0m\u001b[0;34m:\u001b[0m\u001b[0;34m\u001b[0m\u001b[0;34m\u001b[0m\u001b[0m\n\u001b[1;32m    230\u001b[0m             \u001b[0;32mfor\u001b[0m \u001b[0max\u001b[0m\u001b[0;34m,\u001b[0m \u001b[0mindexer\u001b[0m \u001b[0;32min\u001b[0m \u001b[0mself\u001b[0m\u001b[0;34m.\u001b[0m\u001b[0mindexers\u001b[0m\u001b[0;34m.\u001b[0m\u001b[0mitems\u001b[0m\u001b[0;34m(\u001b[0m\u001b[0;34m)\u001b[0m\u001b[0;34m:\u001b[0m\u001b[0;34m\u001b[0m\u001b[0;34m\u001b[0m\u001b[0m\n\u001b[0;32m--> 231\u001b[0;31m                 \u001b[0mvalues\u001b[0m \u001b[0;34m=\u001b[0m \u001b[0malgos\u001b[0m\u001b[0;34m.\u001b[0m\u001b[0mtake_nd\u001b[0m\u001b[0;34m(\u001b[0m\u001b[0mvalues\u001b[0m\u001b[0;34m,\u001b[0m \u001b[0mindexer\u001b[0m\u001b[0;34m,\u001b[0m \u001b[0maxis\u001b[0m\u001b[0;34m=\u001b[0m\u001b[0max\u001b[0m\u001b[0;34m,\u001b[0m \u001b[0mfill_value\u001b[0m\u001b[0;34m=\u001b[0m\u001b[0mfill_value\u001b[0m\u001b[0;34m)\u001b[0m\u001b[0;34m\u001b[0m\u001b[0;34m\u001b[0m\u001b[0m\n\u001b[0m\u001b[1;32m    232\u001b[0m \u001b[0;34m\u001b[0m\u001b[0m\n\u001b[1;32m    233\u001b[0m         \u001b[0;32mreturn\u001b[0m \u001b[0mvalues\u001b[0m\u001b[0;34m\u001b[0m\u001b[0;34m\u001b[0m\u001b[0m\n",
      "\u001b[0;31mKeyboardInterrupt\u001b[0m: "
     ]
    }
   ],
   "source": [
    "# eseguo una merge con loans per avere anche le informazioni riguardanti il loan_amount\n",
    "lenders_loan_amount = pd.merge(lenders_per_loan, loans, on=\"loan_id\")[[\"loan_id\", \"lenders_count\", \"loan_amount\"]]\n",
    "#loans_ = loans.set_index('loan_id')\n",
    "#lenders_per_loan_= lenders_per_loan.set_index('loan_id')\n",
    "#lenders_loan_amount= lenders_per_loan_.merge(loans_, left_index=True, right_index=True)"
   ]
  },
  {
   "cell_type": "code",
   "execution_count": null,
   "metadata": {},
   "outputs": [],
   "source": [
    "#Aggiungo una colonna in cui calcolo il loan_amount per lender, assumendo che tutti abbiano contribuito con lo stesso ammontare\n",
    "\n",
    "lenders_loan_amount[\"amount_per_person\"] = lenders_loan_amount[\"loan_amount\"] / lenders_loan_amount[\"lenders_count\"]"
   ]
  },
  {
   "cell_type": "code",
   "execution_count": 12,
   "metadata": {},
   "outputs": [
    {
     "data": {
      "text/html": [
       "<div>\n",
       "<style scoped>\n",
       "    .dataframe tbody tr th:only-of-type {\n",
       "        vertical-align: middle;\n",
       "    }\n",
       "\n",
       "    .dataframe tbody tr th {\n",
       "        vertical-align: top;\n",
       "    }\n",
       "\n",
       "    .dataframe thead th {\n",
       "        text-align: right;\n",
       "    }\n",
       "</style>\n",
       "<table border=\"1\" class=\"dataframe\">\n",
       "  <thead>\n",
       "    <tr style=\"text-align: right;\">\n",
       "      <th></th>\n",
       "      <th>loan_id</th>\n",
       "      <th>lenders_count</th>\n",
       "      <th>loan_amount</th>\n",
       "      <th>amount_per_person</th>\n",
       "    </tr>\n",
       "  </thead>\n",
       "  <tbody>\n",
       "    <tr>\n",
       "      <th>0</th>\n",
       "      <td>84</td>\n",
       "      <td>3</td>\n",
       "      <td>500.0</td>\n",
       "      <td>166.666667</td>\n",
       "    </tr>\n",
       "    <tr>\n",
       "      <th>1</th>\n",
       "      <td>85</td>\n",
       "      <td>2</td>\n",
       "      <td>500.0</td>\n",
       "      <td>250.000000</td>\n",
       "    </tr>\n",
       "    <tr>\n",
       "      <th>2</th>\n",
       "      <td>86</td>\n",
       "      <td>3</td>\n",
       "      <td>500.0</td>\n",
       "      <td>166.666667</td>\n",
       "    </tr>\n",
       "    <tr>\n",
       "      <th>3</th>\n",
       "      <td>88</td>\n",
       "      <td>3</td>\n",
       "      <td>300.0</td>\n",
       "      <td>100.000000</td>\n",
       "    </tr>\n",
       "    <tr>\n",
       "      <th>4</th>\n",
       "      <td>89</td>\n",
       "      <td>4</td>\n",
       "      <td>500.0</td>\n",
       "      <td>125.000000</td>\n",
       "    </tr>\n",
       "  </tbody>\n",
       "</table>\n",
       "</div>"
      ],
      "text/plain": [
       "   loan_id  lenders_count  loan_amount  amount_per_person\n",
       "0       84              3        500.0         166.666667\n",
       "1       85              2        500.0         250.000000\n",
       "2       86              3        500.0         166.666667\n",
       "3       88              3        300.0         100.000000\n",
       "4       89              4        500.0         125.000000"
      ]
     },
     "execution_count": 12,
     "metadata": {},
     "output_type": "execute_result"
    }
   ],
   "source": [
    "lenders_loan_amount.head()"
   ]
  },
  {
   "cell_type": "code",
   "execution_count": 13,
   "metadata": {},
   "outputs": [],
   "source": [
    "#Ora unisco norm_loans_lenders e lenders_loan_amount in modo da avere un df con \"amount_per_person\" associato ad ogni lender\n",
    "\n",
    "loans_lenders_merged = pd.merge(norm_loans_lenders, lenders_loan_amount, on=\"loan_id\", how=\"left\")"
   ]
  },
  {
   "cell_type": "code",
   "execution_count": 15,
   "metadata": {},
   "outputs": [],
   "source": [
    "#Ora raggruppo per lender e sommo, ottenendo il totale prestato da ogni lender.\n",
    "\n",
    "lenders_overall_lent = loans_lenders_merged.groupby(\"lenders\")[\"amount_per_person\"].sum().to_frame().reset_index()"
   ]
  },
  {
   "cell_type": "code",
   "execution_count": 16,
   "metadata": {},
   "outputs": [
    {
     "data": {
      "text/html": [
       "<div>\n",
       "<style scoped>\n",
       "    .dataframe tbody tr th:only-of-type {\n",
       "        vertical-align: middle;\n",
       "    }\n",
       "\n",
       "    .dataframe tbody tr th {\n",
       "        vertical-align: top;\n",
       "    }\n",
       "\n",
       "    .dataframe thead th {\n",
       "        text-align: right;\n",
       "    }\n",
       "</style>\n",
       "<table border=\"1\" class=\"dataframe\">\n",
       "  <thead>\n",
       "    <tr style=\"text-align: right;\">\n",
       "      <th></th>\n",
       "      <th>lenders</th>\n",
       "      <th>amount_per_person</th>\n",
       "    </tr>\n",
       "  </thead>\n",
       "  <tbody>\n",
       "    <tr>\n",
       "      <th>0</th>\n",
       "      <td>000</td>\n",
       "      <td>1672.618411</td>\n",
       "    </tr>\n",
       "    <tr>\n",
       "      <th>1</th>\n",
       "      <td>00000</td>\n",
       "      <td>1380.693644</td>\n",
       "    </tr>\n",
       "    <tr>\n",
       "      <th>2</th>\n",
       "      <td>0002</td>\n",
       "      <td>2472.563566</td>\n",
       "    </tr>\n",
       "    <tr>\n",
       "      <th>3</th>\n",
       "      <td>00mike00</td>\n",
       "      <td>52.631579</td>\n",
       "    </tr>\n",
       "    <tr>\n",
       "      <th>4</th>\n",
       "      <td>0101craign0101</td>\n",
       "      <td>2623.565117</td>\n",
       "    </tr>\n",
       "  </tbody>\n",
       "</table>\n",
       "</div>"
      ],
      "text/plain": [
       "           lenders  amount_per_person\n",
       "0              000        1672.618411\n",
       "1            00000        1380.693644\n",
       "2             0002        2472.563566\n",
       "3         00mike00          52.631579\n",
       "4   0101craign0101        2623.565117"
      ]
     },
     "execution_count": 16,
     "metadata": {},
     "output_type": "execute_result"
    }
   ],
   "source": [
    "lenders_overall_lent.head()"
   ]
  },
  {
   "cell_type": "markdown",
   "metadata": {},
   "source": [
    "# 9. For each country, compute the difference between the overall amount of money lent and the overall amount of money borrowed. Since the country of the lender is often unknown, you can assume that the true distribution among the countries is the same as the one computed from the rows where the country is known.\n"
   ]
  },
  {
   "cell_type": "code",
   "execution_count": 69,
   "metadata": {},
   "outputs": [],
   "source": [
    "lenders = pd.read_csv('/Users/caterinapisani/Progetto FCS/KIVA/lenders.csv')"
   ]
  },
  {
   "cell_type": "code",
   "execution_count": 72,
   "metadata": {},
   "outputs": [
    {
     "data": {
      "text/html": [
       "<div>\n",
       "<style scoped>\n",
       "    .dataframe tbody tr th:only-of-type {\n",
       "        vertical-align: middle;\n",
       "    }\n",
       "\n",
       "    .dataframe tbody tr th {\n",
       "        vertical-align: top;\n",
       "    }\n",
       "\n",
       "    .dataframe thead th {\n",
       "        text-align: right;\n",
       "    }\n",
       "</style>\n",
       "<table border=\"1\" class=\"dataframe\">\n",
       "  <thead>\n",
       "    <tr style=\"text-align: right;\">\n",
       "      <th></th>\n",
       "      <th>permanent_name</th>\n",
       "      <th>display_name</th>\n",
       "      <th>city</th>\n",
       "      <th>state</th>\n",
       "      <th>country_code</th>\n",
       "      <th>member_since</th>\n",
       "      <th>occupation</th>\n",
       "      <th>loan_because</th>\n",
       "      <th>loan_purchase_num</th>\n",
       "      <th>invited_by</th>\n",
       "      <th>num_invited</th>\n",
       "    </tr>\n",
       "  </thead>\n",
       "  <tbody>\n",
       "    <tr>\n",
       "      <th>0</th>\n",
       "      <td>qian3013</td>\n",
       "      <td>Qian</td>\n",
       "      <td>NaN</td>\n",
       "      <td>NaN</td>\n",
       "      <td>NaN</td>\n",
       "      <td>1461300457</td>\n",
       "      <td>NaN</td>\n",
       "      <td>NaN</td>\n",
       "      <td>1.0</td>\n",
       "      <td>NaN</td>\n",
       "      <td>0</td>\n",
       "    </tr>\n",
       "    <tr>\n",
       "      <th>1</th>\n",
       "      <td>reena6733</td>\n",
       "      <td>Reena</td>\n",
       "      <td>NaN</td>\n",
       "      <td>NaN</td>\n",
       "      <td>NaN</td>\n",
       "      <td>1461300634</td>\n",
       "      <td>NaN</td>\n",
       "      <td>NaN</td>\n",
       "      <td>9.0</td>\n",
       "      <td>NaN</td>\n",
       "      <td>0</td>\n",
       "    </tr>\n",
       "    <tr>\n",
       "      <th>2</th>\n",
       "      <td>mai5982</td>\n",
       "      <td>Mai</td>\n",
       "      <td>NaN</td>\n",
       "      <td>NaN</td>\n",
       "      <td>NaN</td>\n",
       "      <td>1461300853</td>\n",
       "      <td>NaN</td>\n",
       "      <td>NaN</td>\n",
       "      <td>NaN</td>\n",
       "      <td>NaN</td>\n",
       "      <td>0</td>\n",
       "    </tr>\n",
       "    <tr>\n",
       "      <th>3</th>\n",
       "      <td>andrew86079135</td>\n",
       "      <td>Andrew</td>\n",
       "      <td>NaN</td>\n",
       "      <td>NaN</td>\n",
       "      <td>NaN</td>\n",
       "      <td>1461301091</td>\n",
       "      <td>NaN</td>\n",
       "      <td>NaN</td>\n",
       "      <td>5.0</td>\n",
       "      <td>Peter Tan</td>\n",
       "      <td>0</td>\n",
       "    </tr>\n",
       "    <tr>\n",
       "      <th>4</th>\n",
       "      <td>nguyen6962</td>\n",
       "      <td>Nguyen</td>\n",
       "      <td>NaN</td>\n",
       "      <td>NaN</td>\n",
       "      <td>NaN</td>\n",
       "      <td>1461301154</td>\n",
       "      <td>NaN</td>\n",
       "      <td>NaN</td>\n",
       "      <td>NaN</td>\n",
       "      <td>NaN</td>\n",
       "      <td>0</td>\n",
       "    </tr>\n",
       "    <tr>\n",
       "      <th>...</th>\n",
       "      <td>...</td>\n",
       "      <td>...</td>\n",
       "      <td>...</td>\n",
       "      <td>...</td>\n",
       "      <td>...</td>\n",
       "      <td>...</td>\n",
       "      <td>...</td>\n",
       "      <td>...</td>\n",
       "      <td>...</td>\n",
       "      <td>...</td>\n",
       "      <td>...</td>\n",
       "    </tr>\n",
       "    <tr>\n",
       "      <th>2349169</th>\n",
       "      <td>janet7309</td>\n",
       "      <td>Janet</td>\n",
       "      <td>NaN</td>\n",
       "      <td>NaN</td>\n",
       "      <td>NaN</td>\n",
       "      <td>1342097163</td>\n",
       "      <td>NaN</td>\n",
       "      <td>NaN</td>\n",
       "      <td>NaN</td>\n",
       "      <td>NaN</td>\n",
       "      <td>0</td>\n",
       "    </tr>\n",
       "    <tr>\n",
       "      <th>2349170</th>\n",
       "      <td>pj4198</td>\n",
       "      <td>NaN</td>\n",
       "      <td>NaN</td>\n",
       "      <td>NaN</td>\n",
       "      <td>NaN</td>\n",
       "      <td>1342097515</td>\n",
       "      <td>NaN</td>\n",
       "      <td>NaN</td>\n",
       "      <td>NaN</td>\n",
       "      <td>NaN</td>\n",
       "      <td>0</td>\n",
       "    </tr>\n",
       "    <tr>\n",
       "      <th>2349171</th>\n",
       "      <td>maria2141</td>\n",
       "      <td>Maria</td>\n",
       "      <td>NaN</td>\n",
       "      <td>NaN</td>\n",
       "      <td>US</td>\n",
       "      <td>1342099723</td>\n",
       "      <td>NaN</td>\n",
       "      <td>NaN</td>\n",
       "      <td>2.0</td>\n",
       "      <td>NaN</td>\n",
       "      <td>0</td>\n",
       "    </tr>\n",
       "    <tr>\n",
       "      <th>2349172</th>\n",
       "      <td>simone9846</td>\n",
       "      <td>Simone</td>\n",
       "      <td>NaN</td>\n",
       "      <td>NaN</td>\n",
       "      <td>NaN</td>\n",
       "      <td>1342100213</td>\n",
       "      <td>NaN</td>\n",
       "      <td>NaN</td>\n",
       "      <td>NaN</td>\n",
       "      <td>NaN</td>\n",
       "      <td>0</td>\n",
       "    </tr>\n",
       "    <tr>\n",
       "      <th>2349173</th>\n",
       "      <td>laurie1160</td>\n",
       "      <td>Laurie</td>\n",
       "      <td>Timonium</td>\n",
       "      <td>Maryland</td>\n",
       "      <td>US</td>\n",
       "      <td>1342101767</td>\n",
       "      <td>NaN</td>\n",
       "      <td>NaN</td>\n",
       "      <td>1.0</td>\n",
       "      <td>Verian</td>\n",
       "      <td>0</td>\n",
       "    </tr>\n",
       "  </tbody>\n",
       "</table>\n",
       "<p>2349174 rows × 11 columns</p>\n",
       "</div>"
      ],
      "text/plain": [
       "         permanent_name display_name      city     state country_code  \\\n",
       "0              qian3013         Qian       NaN       NaN          NaN   \n",
       "1             reena6733        Reena       NaN       NaN          NaN   \n",
       "2               mai5982          Mai       NaN       NaN          NaN   \n",
       "3        andrew86079135       Andrew       NaN       NaN          NaN   \n",
       "4            nguyen6962       Nguyen       NaN       NaN          NaN   \n",
       "...                 ...          ...       ...       ...          ...   \n",
       "2349169       janet7309        Janet       NaN       NaN          NaN   \n",
       "2349170          pj4198          NaN       NaN       NaN          NaN   \n",
       "2349171       maria2141        Maria       NaN       NaN           US   \n",
       "2349172      simone9846       Simone       NaN       NaN          NaN   \n",
       "2349173      laurie1160       Laurie  Timonium  Maryland           US   \n",
       "\n",
       "         member_since occupation loan_because  loan_purchase_num invited_by  \\\n",
       "0          1461300457        NaN          NaN                1.0        NaN   \n",
       "1          1461300634        NaN          NaN                9.0        NaN   \n",
       "2          1461300853        NaN          NaN                NaN        NaN   \n",
       "3          1461301091        NaN          NaN                5.0  Peter Tan   \n",
       "4          1461301154        NaN          NaN                NaN        NaN   \n",
       "...               ...        ...          ...                ...        ...   \n",
       "2349169    1342097163        NaN          NaN                NaN        NaN   \n",
       "2349170    1342097515        NaN          NaN                NaN        NaN   \n",
       "2349171    1342099723        NaN          NaN                2.0        NaN   \n",
       "2349172    1342100213        NaN          NaN                NaN        NaN   \n",
       "2349173    1342101767        NaN          NaN                1.0     Verian   \n",
       "\n",
       "         num_invited  \n",
       "0                  0  \n",
       "1                  0  \n",
       "2                  0  \n",
       "3                  0  \n",
       "4                  0  \n",
       "...              ...  \n",
       "2349169            0  \n",
       "2349170            0  \n",
       "2349171            0  \n",
       "2349172            0  \n",
       "2349173            0  \n",
       "\n",
       "[2349174 rows x 11 columns]"
      ]
     },
     "execution_count": 72,
     "metadata": {},
     "output_type": "execute_result"
    }
   ],
   "source": [
    "lenders"
   ]
  },
  {
   "cell_type": "code",
   "execution_count": 13,
   "metadata": {},
   "outputs": [
    {
     "data": {
      "text/plain": [
       "permanent_name             0\n",
       "display_name            2768\n",
       "city                 1619306\n",
       "state                1713481\n",
       "country_code         1458635\n",
       "member_since               0\n",
       "occupation           1844514\n",
       "loan_because         2174852\n",
       "loan_purchase_num     894281\n",
       "invited_by           1852349\n",
       "num_invited                0\n",
       "dtype: int64"
      ]
     },
     "execution_count": 13,
     "metadata": {},
     "output_type": "execute_result"
    }
   ],
   "source": [
    "lenders.isna().sum()"
   ]
  },
  {
   "cell_type": "markdown",
   "metadata": {},
   "source": [
    "###### Come riportato nel testo della richiesta, vi sono molti valori mancanti nella colonna \"country_code\" e scegliamo di assumere che la distribuzione tra i Paesi dai valori mancanti sia la stessa di quelli in cui compare un valore. Dunque, il primo problema di cui occuparsi è quello del calcolo della distribuzione.  "
   ]
  },
  {
   "cell_type": "code",
   "execution_count": 78,
   "metadata": {
    "scrolled": true
   },
   "outputs": [
    {
     "data": {
      "text/html": [
       "<div>\n",
       "<style scoped>\n",
       "    .dataframe tbody tr th:only-of-type {\n",
       "        vertical-align: middle;\n",
       "    }\n",
       "\n",
       "    .dataframe tbody tr th {\n",
       "        vertical-align: top;\n",
       "    }\n",
       "\n",
       "    .dataframe thead th {\n",
       "        text-align: right;\n",
       "    }\n",
       "</style>\n",
       "<table border=\"1\" class=\"dataframe\">\n",
       "  <thead>\n",
       "    <tr style=\"text-align: right;\">\n",
       "      <th></th>\n",
       "      <th>index</th>\n",
       "      <th>permanent_name</th>\n",
       "      <th>display_name</th>\n",
       "      <th>city</th>\n",
       "      <th>state</th>\n",
       "      <th>country_code</th>\n",
       "      <th>member_since</th>\n",
       "      <th>occupation</th>\n",
       "      <th>loan_because</th>\n",
       "      <th>loan_purchase_num</th>\n",
       "      <th>invited_by</th>\n",
       "      <th>num_invited</th>\n",
       "    </tr>\n",
       "  </thead>\n",
       "  <tbody>\n",
       "    <tr>\n",
       "      <th>0</th>\n",
       "      <td>16</td>\n",
       "      <td>naresh2074</td>\n",
       "      <td>Naresh</td>\n",
       "      <td>NaN</td>\n",
       "      <td>NaN</td>\n",
       "      <td>US</td>\n",
       "      <td>1461303119</td>\n",
       "      <td>NaN</td>\n",
       "      <td>NaN</td>\n",
       "      <td>3.0</td>\n",
       "      <td>NaN</td>\n",
       "      <td>0</td>\n",
       "    </tr>\n",
       "    <tr>\n",
       "      <th>1</th>\n",
       "      <td>31</td>\n",
       "      <td>christina27976796</td>\n",
       "      <td>Christina</td>\n",
       "      <td>NaN</td>\n",
       "      <td>NaN</td>\n",
       "      <td>US</td>\n",
       "      <td>1461303341</td>\n",
       "      <td>NaN</td>\n",
       "      <td>NaN</td>\n",
       "      <td>1.0</td>\n",
       "      <td>Peter Tan</td>\n",
       "      <td>0</td>\n",
       "    </tr>\n",
       "    <tr>\n",
       "      <th>2</th>\n",
       "      <td>37</td>\n",
       "      <td>vikas1098</td>\n",
       "      <td>Vikas</td>\n",
       "      <td>Bengaluru</td>\n",
       "      <td>NaN</td>\n",
       "      <td>IN</td>\n",
       "      <td>1461301846</td>\n",
       "      <td>Software Engineer</td>\n",
       "      <td>NaN</td>\n",
       "      <td>2.0</td>\n",
       "      <td>NaN</td>\n",
       "      <td>0</td>\n",
       "    </tr>\n",
       "    <tr>\n",
       "      <th>3</th>\n",
       "      <td>39</td>\n",
       "      <td>qian1385</td>\n",
       "      <td>Qian</td>\n",
       "      <td>NaN</td>\n",
       "      <td>NaN</td>\n",
       "      <td>US</td>\n",
       "      <td>1461302036</td>\n",
       "      <td>NaN</td>\n",
       "      <td>NaN</td>\n",
       "      <td>2.0</td>\n",
       "      <td>NaN</td>\n",
       "      <td>0</td>\n",
       "    </tr>\n",
       "    <tr>\n",
       "      <th>4</th>\n",
       "      <td>42</td>\n",
       "      <td>xigg8769</td>\n",
       "      <td>Darla</td>\n",
       "      <td>Madison</td>\n",
       "      <td>NaN</td>\n",
       "      <td>US</td>\n",
       "      <td>1461302503</td>\n",
       "      <td>NaN</td>\n",
       "      <td>NaN</td>\n",
       "      <td>NaN</td>\n",
       "      <td>NaN</td>\n",
       "      <td>0</td>\n",
       "    </tr>\n",
       "    <tr>\n",
       "      <th>...</th>\n",
       "      <td>...</td>\n",
       "      <td>...</td>\n",
       "      <td>...</td>\n",
       "      <td>...</td>\n",
       "      <td>...</td>\n",
       "      <td>...</td>\n",
       "      <td>...</td>\n",
       "      <td>...</td>\n",
       "      <td>...</td>\n",
       "      <td>...</td>\n",
       "      <td>...</td>\n",
       "      <td>...</td>\n",
       "    </tr>\n",
       "    <tr>\n",
       "      <th>890534</th>\n",
       "      <td>2349158</td>\n",
       "      <td>rakhi</td>\n",
       "      <td>Rakhi</td>\n",
       "      <td>New York</td>\n",
       "      <td>New York</td>\n",
       "      <td>US</td>\n",
       "      <td>1342100607</td>\n",
       "      <td>Student</td>\n",
       "      <td>I care.</td>\n",
       "      <td>4.0</td>\n",
       "      <td>NaN</td>\n",
       "      <td>0</td>\n",
       "    </tr>\n",
       "    <tr>\n",
       "      <th>890535</th>\n",
       "      <td>2349159</td>\n",
       "      <td>vicki5374</td>\n",
       "      <td>Vicki</td>\n",
       "      <td>Austin</td>\n",
       "      <td>Texas</td>\n",
       "      <td>US</td>\n",
       "      <td>1342101743</td>\n",
       "      <td>NaN</td>\n",
       "      <td>NaN</td>\n",
       "      <td>1.0</td>\n",
       "      <td>Vicki</td>\n",
       "      <td>1</td>\n",
       "    </tr>\n",
       "    <tr>\n",
       "      <th>890536</th>\n",
       "      <td>2349161</td>\n",
       "      <td>jennifer5879</td>\n",
       "      <td>Jennifer</td>\n",
       "      <td>Riverview</td>\n",
       "      <td>New Brunswick</td>\n",
       "      <td>CA</td>\n",
       "      <td>1342092207</td>\n",
       "      <td>NaN</td>\n",
       "      <td>NaN</td>\n",
       "      <td>1.0</td>\n",
       "      <td>Beverly</td>\n",
       "      <td>1</td>\n",
       "    </tr>\n",
       "    <tr>\n",
       "      <th>890537</th>\n",
       "      <td>2349171</td>\n",
       "      <td>maria2141</td>\n",
       "      <td>Maria</td>\n",
       "      <td>NaN</td>\n",
       "      <td>NaN</td>\n",
       "      <td>US</td>\n",
       "      <td>1342099723</td>\n",
       "      <td>NaN</td>\n",
       "      <td>NaN</td>\n",
       "      <td>2.0</td>\n",
       "      <td>NaN</td>\n",
       "      <td>0</td>\n",
       "    </tr>\n",
       "    <tr>\n",
       "      <th>890538</th>\n",
       "      <td>2349173</td>\n",
       "      <td>laurie1160</td>\n",
       "      <td>Laurie</td>\n",
       "      <td>Timonium</td>\n",
       "      <td>Maryland</td>\n",
       "      <td>US</td>\n",
       "      <td>1342101767</td>\n",
       "      <td>NaN</td>\n",
       "      <td>NaN</td>\n",
       "      <td>1.0</td>\n",
       "      <td>Verian</td>\n",
       "      <td>0</td>\n",
       "    </tr>\n",
       "  </tbody>\n",
       "</table>\n",
       "<p>890539 rows × 12 columns</p>\n",
       "</div>"
      ],
      "text/plain": [
       "          index     permanent_name display_name       city          state  \\\n",
       "0            16         naresh2074       Naresh        NaN            NaN   \n",
       "1            31  christina27976796    Christina        NaN            NaN   \n",
       "2            37          vikas1098        Vikas  Bengaluru            NaN   \n",
       "3            39           qian1385         Qian        NaN            NaN   \n",
       "4            42           xigg8769        Darla    Madison            NaN   \n",
       "...         ...                ...          ...        ...            ...   \n",
       "890534  2349158              rakhi        Rakhi   New York       New York   \n",
       "890535  2349159          vicki5374        Vicki     Austin          Texas   \n",
       "890536  2349161       jennifer5879     Jennifer  Riverview  New Brunswick   \n",
       "890537  2349171          maria2141        Maria        NaN            NaN   \n",
       "890538  2349173         laurie1160       Laurie   Timonium       Maryland   \n",
       "\n",
       "       country_code  member_since         occupation loan_because  \\\n",
       "0                US    1461303119                NaN          NaN   \n",
       "1                US    1461303341                NaN          NaN   \n",
       "2                IN    1461301846  Software Engineer          NaN   \n",
       "3                US    1461302036                NaN          NaN   \n",
       "4                US    1461302503                NaN          NaN   \n",
       "...             ...           ...                ...          ...   \n",
       "890534           US    1342100607            Student      I care.   \n",
       "890535           US    1342101743                NaN          NaN   \n",
       "890536           CA    1342092207                NaN          NaN   \n",
       "890537           US    1342099723                NaN          NaN   \n",
       "890538           US    1342101767                NaN          NaN   \n",
       "\n",
       "        loan_purchase_num invited_by  num_invited  \n",
       "0                     3.0        NaN            0  \n",
       "1                     1.0  Peter Tan            0  \n",
       "2                     2.0        NaN            0  \n",
       "3                     2.0        NaN            0  \n",
       "4                     NaN        NaN            0  \n",
       "...                   ...        ...          ...  \n",
       "890534                4.0        NaN            0  \n",
       "890535                1.0      Vicki            1  \n",
       "890536                1.0    Beverly            1  \n",
       "890537                2.0        NaN            0  \n",
       "890538                1.0     Verian            0  \n",
       "\n",
       "[890539 rows x 12 columns]"
      ]
     },
     "execution_count": 78,
     "metadata": {},
     "output_type": "execute_result"
    }
   ],
   "source": [
    "#estraggo i country code non nulli e creo \"lenders_notnull\"\n",
    "lenders_notnull = lenders.loc[lenders[\"country_code\"].notnull()].reset_index()\n",
    "lenders_notnull"
   ]
  },
  {
   "cell_type": "code",
   "execution_count": 81,
   "metadata": {},
   "outputs": [
    {
     "data": {
      "text/html": [
       "<div>\n",
       "<style scoped>\n",
       "    .dataframe tbody tr th:only-of-type {\n",
       "        vertical-align: middle;\n",
       "    }\n",
       "\n",
       "    .dataframe tbody tr th {\n",
       "        vertical-align: top;\n",
       "    }\n",
       "\n",
       "    .dataframe thead th {\n",
       "        text-align: right;\n",
       "    }\n",
       "</style>\n",
       "<table border=\"1\" class=\"dataframe\">\n",
       "  <thead>\n",
       "    <tr style=\"text-align: right;\">\n",
       "      <th></th>\n",
       "      <th>index</th>\n",
       "      <th>country_code</th>\n",
       "    </tr>\n",
       "  </thead>\n",
       "  <tbody>\n",
       "    <tr>\n",
       "      <th>0</th>\n",
       "      <td>16</td>\n",
       "      <td>US</td>\n",
       "    </tr>\n",
       "    <tr>\n",
       "      <th>1</th>\n",
       "      <td>31</td>\n",
       "      <td>US</td>\n",
       "    </tr>\n",
       "    <tr>\n",
       "      <th>2</th>\n",
       "      <td>37</td>\n",
       "      <td>IN</td>\n",
       "    </tr>\n",
       "    <tr>\n",
       "      <th>3</th>\n",
       "      <td>39</td>\n",
       "      <td>US</td>\n",
       "    </tr>\n",
       "    <tr>\n",
       "      <th>4</th>\n",
       "      <td>42</td>\n",
       "      <td>US</td>\n",
       "    </tr>\n",
       "    <tr>\n",
       "      <th>...</th>\n",
       "      <td>...</td>\n",
       "      <td>...</td>\n",
       "    </tr>\n",
       "    <tr>\n",
       "      <th>890534</th>\n",
       "      <td>2349158</td>\n",
       "      <td>US</td>\n",
       "    </tr>\n",
       "    <tr>\n",
       "      <th>890535</th>\n",
       "      <td>2349159</td>\n",
       "      <td>US</td>\n",
       "    </tr>\n",
       "    <tr>\n",
       "      <th>890536</th>\n",
       "      <td>2349161</td>\n",
       "      <td>CA</td>\n",
       "    </tr>\n",
       "    <tr>\n",
       "      <th>890537</th>\n",
       "      <td>2349171</td>\n",
       "      <td>US</td>\n",
       "    </tr>\n",
       "    <tr>\n",
       "      <th>890538</th>\n",
       "      <td>2349173</td>\n",
       "      <td>US</td>\n",
       "    </tr>\n",
       "  </tbody>\n",
       "</table>\n",
       "<p>890539 rows × 2 columns</p>\n",
       "</div>"
      ],
      "text/plain": [
       "          index country_code\n",
       "0            16           US\n",
       "1            31           US\n",
       "2            37           IN\n",
       "3            39           US\n",
       "4            42           US\n",
       "...         ...          ...\n",
       "890534  2349158           US\n",
       "890535  2349159           US\n",
       "890536  2349161           CA\n",
       "890537  2349171           US\n",
       "890538  2349173           US\n",
       "\n",
       "[890539 rows x 2 columns]"
      ]
     },
     "execution_count": 81,
     "metadata": {},
     "output_type": "execute_result"
    }
   ],
   "source": [
    "lenders_notnull=lenders_notnull[['index','country_code']]\n",
    "lenders_notnull"
   ]
  },
  {
   "cell_type": "code",
   "execution_count": 82,
   "metadata": {},
   "outputs": [
    {
     "data": {
      "text/plain": [
       "890539"
      ]
     },
     "execution_count": 82,
     "metadata": {},
     "output_type": "execute_result"
    }
   ],
   "source": [
    "tot_notnull_lenders = len(lenders_notnull.index)\n",
    "tot_notnull_lenders"
   ]
  },
  {
   "cell_type": "code",
   "execution_count": 83,
   "metadata": {},
   "outputs": [],
   "source": [
    "#estraggo i country code nulli e creo \"lenders_null\"\n",
    "lenders_null = lenders.loc[lenders[\"country_code\"].isnull()].reset_index()"
   ]
  },
  {
   "cell_type": "code",
   "execution_count": 84,
   "metadata": {
    "scrolled": false
   },
   "outputs": [
    {
     "data": {
      "text/html": [
       "<div>\n",
       "<style scoped>\n",
       "    .dataframe tbody tr th:only-of-type {\n",
       "        vertical-align: middle;\n",
       "    }\n",
       "\n",
       "    .dataframe tbody tr th {\n",
       "        vertical-align: top;\n",
       "    }\n",
       "\n",
       "    .dataframe thead th {\n",
       "        text-align: right;\n",
       "    }\n",
       "</style>\n",
       "<table border=\"1\" class=\"dataframe\">\n",
       "  <thead>\n",
       "    <tr style=\"text-align: right;\">\n",
       "      <th></th>\n",
       "      <th>index</th>\n",
       "      <th>country_code</th>\n",
       "    </tr>\n",
       "  </thead>\n",
       "  <tbody>\n",
       "    <tr>\n",
       "      <th>0</th>\n",
       "      <td>0</td>\n",
       "      <td>NaN</td>\n",
       "    </tr>\n",
       "    <tr>\n",
       "      <th>1</th>\n",
       "      <td>1</td>\n",
       "      <td>NaN</td>\n",
       "    </tr>\n",
       "    <tr>\n",
       "      <th>2</th>\n",
       "      <td>2</td>\n",
       "      <td>NaN</td>\n",
       "    </tr>\n",
       "    <tr>\n",
       "      <th>3</th>\n",
       "      <td>3</td>\n",
       "      <td>NaN</td>\n",
       "    </tr>\n",
       "    <tr>\n",
       "      <th>4</th>\n",
       "      <td>4</td>\n",
       "      <td>NaN</td>\n",
       "    </tr>\n",
       "    <tr>\n",
       "      <th>...</th>\n",
       "      <td>...</td>\n",
       "      <td>...</td>\n",
       "    </tr>\n",
       "    <tr>\n",
       "      <th>1458630</th>\n",
       "      <td>2349167</td>\n",
       "      <td>NaN</td>\n",
       "    </tr>\n",
       "    <tr>\n",
       "      <th>1458631</th>\n",
       "      <td>2349168</td>\n",
       "      <td>NaN</td>\n",
       "    </tr>\n",
       "    <tr>\n",
       "      <th>1458632</th>\n",
       "      <td>2349169</td>\n",
       "      <td>NaN</td>\n",
       "    </tr>\n",
       "    <tr>\n",
       "      <th>1458633</th>\n",
       "      <td>2349170</td>\n",
       "      <td>NaN</td>\n",
       "    </tr>\n",
       "    <tr>\n",
       "      <th>1458634</th>\n",
       "      <td>2349172</td>\n",
       "      <td>NaN</td>\n",
       "    </tr>\n",
       "  </tbody>\n",
       "</table>\n",
       "<p>1458635 rows × 2 columns</p>\n",
       "</div>"
      ],
      "text/plain": [
       "           index country_code\n",
       "0              0          NaN\n",
       "1              1          NaN\n",
       "2              2          NaN\n",
       "3              3          NaN\n",
       "4              4          NaN\n",
       "...          ...          ...\n",
       "1458630  2349167          NaN\n",
       "1458631  2349168          NaN\n",
       "1458632  2349169          NaN\n",
       "1458633  2349170          NaN\n",
       "1458634  2349172          NaN\n",
       "\n",
       "[1458635 rows x 2 columns]"
      ]
     },
     "execution_count": 84,
     "metadata": {},
     "output_type": "execute_result"
    }
   ],
   "source": [
    "lenders_null = lenders_null[['index','country_code']]\n",
    "lenders_null"
   ]
  },
  {
   "cell_type": "code",
   "execution_count": null,
   "metadata": {},
   "outputs": [],
   "source": [
    "#Calcolo la distribuzione delle nazioni nel dataframe lenders_notnull: innanzitutto eseguo una group_by \n",
    "#e una count sul country_code per ottenere il num di lender country \n",
    "\n",
    "lenders_per_country = lenders_notnull.groupby(\"country_code\").count().reset_index().rename(columns = {\"index\":\"n_lenders\"})\n",
    "lenders_per_country"
   ]
  },
  {
   "cell_type": "code",
   "execution_count": null,
   "metadata": {
    "scrolled": true
   },
   "outputs": [],
   "source": [
    "#secondariamente calcolo la percentuale del num di lenders per country sul totale dei lenders non nulli\n",
    "\n",
    "lenders_per_country[\"percentage\"] = users_per_country[\"n_lenders\"]/tot_notnull_lenders*100\n",
    "\n",
    "lenders_per_country"
   ]
  },
  {
   "cell_type": "code",
   "execution_count": null,
   "metadata": {},
   "outputs": [],
   "source": [
    "somma_perc = lenders_per_country[\"percentage\"].sum()\n",
    "somma_perc"
   ]
  },
  {
   "cell_type": "code",
   "execution_count": null,
   "metadata": {},
   "outputs": [],
   "source": [
    "#Infine, normalizzo tutte le percentuali dividendole per la loro somma in modo che il totale sia pari a 1 e non si ottengano errori\n",
    "\n",
    "lenders_per_country[\"percentage\"] /= lenders_per_country[\"percentage\"].sum()\n",
    "somma_perc = lenders_per_country[\"percentage\"].sum()\n",
    "somma_perc"
   ]
  },
  {
   "cell_type": "code",
   "execution_count": 30,
   "metadata": {
    "scrolled": false
   },
   "outputs": [
    {
     "data": {
      "text/html": [
       "<div>\n",
       "<style scoped>\n",
       "    .dataframe tbody tr th:only-of-type {\n",
       "        vertical-align: middle;\n",
       "    }\n",
       "\n",
       "    .dataframe tbody tr th {\n",
       "        vertical-align: top;\n",
       "    }\n",
       "\n",
       "    .dataframe thead th {\n",
       "        text-align: right;\n",
       "    }\n",
       "</style>\n",
       "<table border=\"1\" class=\"dataframe\">\n",
       "  <thead>\n",
       "    <tr style=\"text-align: right;\">\n",
       "      <th></th>\n",
       "      <th>index</th>\n",
       "      <th>country_code</th>\n",
       "    </tr>\n",
       "  </thead>\n",
       "  <tbody>\n",
       "    <tr>\n",
       "      <th>0</th>\n",
       "      <td>0</td>\n",
       "      <td>GB</td>\n",
       "    </tr>\n",
       "    <tr>\n",
       "      <th>1</th>\n",
       "      <td>1</td>\n",
       "      <td>US</td>\n",
       "    </tr>\n",
       "    <tr>\n",
       "      <th>2</th>\n",
       "      <td>2</td>\n",
       "      <td>US</td>\n",
       "    </tr>\n",
       "    <tr>\n",
       "      <th>3</th>\n",
       "      <td>3</td>\n",
       "      <td>US</td>\n",
       "    </tr>\n",
       "    <tr>\n",
       "      <th>4</th>\n",
       "      <td>4</td>\n",
       "      <td>US</td>\n",
       "    </tr>\n",
       "    <tr>\n",
       "      <th>...</th>\n",
       "      <td>...</td>\n",
       "      <td>...</td>\n",
       "    </tr>\n",
       "    <tr>\n",
       "      <th>1458630</th>\n",
       "      <td>2349167</td>\n",
       "      <td>US</td>\n",
       "    </tr>\n",
       "    <tr>\n",
       "      <th>1458631</th>\n",
       "      <td>2349168</td>\n",
       "      <td>NO</td>\n",
       "    </tr>\n",
       "    <tr>\n",
       "      <th>1458632</th>\n",
       "      <td>2349169</td>\n",
       "      <td>US</td>\n",
       "    </tr>\n",
       "    <tr>\n",
       "      <th>1458633</th>\n",
       "      <td>2349170</td>\n",
       "      <td>IT</td>\n",
       "    </tr>\n",
       "    <tr>\n",
       "      <th>1458634</th>\n",
       "      <td>2349172</td>\n",
       "      <td>NZ</td>\n",
       "    </tr>\n",
       "  </tbody>\n",
       "</table>\n",
       "<p>1458635 rows × 2 columns</p>\n",
       "</div>"
      ],
      "text/plain": [
       "           index country_code\n",
       "0              0           GB\n",
       "1              1           US\n",
       "2              2           US\n",
       "3              3           US\n",
       "4              4           US\n",
       "...          ...          ...\n",
       "1458630  2349167           US\n",
       "1458631  2349168           NO\n",
       "1458632  2349169           US\n",
       "1458633  2349170           IT\n",
       "1458634  2349172           NZ\n",
       "\n",
       "[1458635 rows x 2 columns]"
      ]
     },
     "execution_count": 30,
     "metadata": {},
     "output_type": "execute_result"
    }
   ],
   "source": [
    "#Ora posso riempire il dataframe lenders_null in modo che abbia la stessa distribuzione di lenders_notnull.\n",
    "#Per fare questo uso la funzione np.random.choice (inserendo come seed '2208', orario corrente)\n",
    "#In questo modo assegno la nazionalità in modo randomico e non sistematico (x. es. partendo dall'alto), ottenendo la stessa distribuzione del df non nullo\n",
    "\n",
    "np.random.seed(2208)\n",
    "lenders_null[\"country_code\"] = np.random.choice(lenders_per_country[\"country_code\"], size=len(lenders_null.index), p = lenders_per_country[\"percentage\"])\n",
    "\n",
    "lenders_null"
   ]
  },
  {
   "cell_type": "code",
   "execution_count": null,
   "metadata": {},
   "outputs": [],
   "source": [
    "#Inserisco nel df \"lenders\" originario i df lenders_notnull e lenders_null in cui non compaiono più country_code nulli\n",
    "lenders = pd.concat([lenders_notnull, lenders_null]).drop(columns=\"index\")"
   ]
  },
  {
   "cell_type": "code",
   "execution_count": null,
   "metadata": {},
   "outputs": [],
   "source": []
  },
  {
   "cell_type": "markdown",
   "metadata": {},
   "source": [
    "# 10. Which country has the highest ratio between the difference computed at the previous point and the population?"
   ]
  },
  {
   "cell_type": "markdown",
   "metadata": {},
   "source": [
    "# 11. Which country has the highest ratio between the difference computed at point 9 and the population that is not below the poverty line?"
   ]
  },
  {
   "cell_type": "markdown",
   "metadata": {},
   "source": [
    "# 12. For each year, compute the total amount of loans. Each loan that has planned expiration time and disburse time in different years must have its amount distributed proportionally to the number of days in each year. For example, a loan with disburse time December 1st, 2016, planned expiration time January 30th 2018, and amount 5000USD has an amount of 5000USD * 31 / (31+365+30) = 363.85 for 2016, 5000USD * 365 / (31+365+30) = 4284.04 for 2017, and 5000USD * 30 / (31+365+30) = 352.11 for 2018."
   ]
  }
 ],
 "metadata": {
  "kernelspec": {
   "display_name": "Python 3",
   "language": "python",
   "name": "python3"
  },
  "language_info": {
   "codemirror_mode": {
    "name": "ipython",
    "version": 3
   },
   "file_extension": ".py",
   "mimetype": "text/x-python",
   "name": "python",
   "nbconvert_exporter": "python",
   "pygments_lexer": "ipython3",
   "version": "3.7.6"
  }
 },
 "nbformat": 4,
 "nbformat_minor": 4
}
